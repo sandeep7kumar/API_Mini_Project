{
 "cells": [
  {
   "cell_type": "markdown",
   "metadata": {},
   "source": [
    "This exercise will require you to pull some data from the Qunadl API. Qaundl is currently the most widely used aggregator of financial market data."
   ]
  },
  {
   "cell_type": "markdown",
   "metadata": {},
   "source": [
    "As a first step, you will need to register a free account on the http://www.quandl.com website."
   ]
  },
  {
   "cell_type": "markdown",
   "metadata": {},
   "source": [
    "After you register, you will be provided with a unique API key, that you should store:"
   ]
  },
  {
   "cell_type": "code",
   "execution_count": 17,
   "metadata": {},
   "outputs": [],
   "source": [
    "# Store the API key as a string - according to PEP8, constants are always named in all upper case\n",
    "API_KEY = ''"
   ]
  },
  {
   "cell_type": "markdown",
   "metadata": {},
   "source": [
    "Qaundl has a large number of data sources, but, unfortunately, most of them require a Premium subscription. Still, there are also a good number of free datasets."
   ]
  },
  {
   "cell_type": "markdown",
   "metadata": {},
   "source": [
    "For this mini project, we will focus on equities data from the Frankfurt Stock Exhange (FSE), which is available for free. We'll try and analyze the stock prices of a company called Carl Zeiss Meditec, which manufactures tools for eye examinations, as well as medical lasers for laser eye surgery: https://www.zeiss.com/meditec/int/home.html. The company is listed under the stock ticker AFX_X."
   ]
  },
  {
   "cell_type": "markdown",
   "metadata": {},
   "source": [
    "You can find the detailed Quandl API instructions here: https://docs.quandl.com/docs/time-series"
   ]
  },
  {
   "cell_type": "markdown",
   "metadata": {},
   "source": [
    "While there is a dedicated Python package for connecting to the Quandl API, we would prefer that you use the *requests* package, which can be easily downloaded using *pip* or *conda*. You can find the documentation for the package here: http://docs.python-requests.org/en/master/ "
   ]
  },
  {
   "cell_type": "markdown",
   "metadata": {},
   "source": [
    "Finally, apart from the *requests* package, you are encouraged to not use any third party Python packages, such as *pandas*, and instead focus on what's available in the Python Standard Library (the *collections* module might come in handy: https://pymotw.com/3/collections/ ).\n",
    "Also, since you won't have access to DataFrames, you are encouraged to us Python's native data structures - preferably dictionaries, though some questions can also be answered using lists.\n",
    "You can read more on these data structures here: https://docs.python.org/3/tutorial/datastructures.html"
   ]
  },
  {
   "cell_type": "markdown",
   "metadata": {},
   "source": [
    "Keep in mind that the JSON responses you will be getting from the API map almost one-to-one to Python's dictionaries. Unfortunately, they can be very nested, so make sure you read up on indexing dictionaries in the documentation provided above."
   ]
  },
  {
   "cell_type": "code",
   "execution_count": 18,
   "metadata": {},
   "outputs": [],
   "source": [
    "# First, import the relevant modules\n",
    "import json\n",
    "import requests\n",
    "#import tweepy"
   ]
  },
  {
   "cell_type": "code",
   "execution_count": 19,
   "metadata": {},
   "outputs": [
    {
     "name": "stdout",
     "output_type": "stream",
     "text": [
      "{'dataset': {'id': 10095370, 'dataset_code': 'AFX_X', 'database_code': 'FSE', 'name': 'Carl Zeiss Meditec (AFX_X)', 'description': 'Stock Prices for Carl Zeiss Meditec (2020-07-10) from the Frankfurt Stock Exchange.<br><br>Trading System: Xetra<br><br>ISIN: DE0005313704', 'refreshed_at': '2020-07-24T22:16:22.029Z', 'newest_available_date': '2020-07-24', 'oldest_available_date': '2000-06-07', 'column_names': ['Date', 'Open', 'High', 'Low', 'Close', 'Change', 'Traded Volume', 'Turnover', 'Last Price of the Day', 'Daily Traded Units', 'Daily Turnover'], 'frequency': 'daily', 'type': 'Time Series', 'premium': False, 'limit': None, 'transform': None, 'column_index': None, 'start_date': '2020-07-19', 'end_date': '2020-07-24', 'data': [['2020-07-24', 90.5, 90.5, 87.85, 87.9, None, 177031.0, 15683394.95, None, None, None], ['2020-07-23', 88.4, 91.55, 88.15, 91.55, None, 146866.0, 13280553.85, None, None, None], ['2020-07-22', 88.6, 89.1, 87.4, 88.75, None, 101234.0, 8954258.2, None, None, None], ['2020-07-21', 89.55, 89.95, 87.75, 88.5, None, 195028.0, 17331900.8, None, None, None], ['2020-07-20', 88.25, 89.5, 87.55, 88.95, None, 227635.0, 20134893.65, None, None, None]], 'collapse': None, 'order': None, 'database_id': 6129}}\n"
     ]
    }
   ],
   "source": [
    "# Now, call the Quandl API and pull out a small sample of the data (only one day) to get a glimpse\n",
    "# into the JSON structure that will be returned\n",
    "url = \"https://www.quandl.com/api/v3/datasets/FSE/AFX_X.json?api_key=jAtUdww8aP6fZHznkaLm&start_date=2020-07-19\"\n",
    "r = requests.get(url)\n",
    "json_data = r.json()\n",
    "print(json_data)"
   ]
  },
  {
   "cell_type": "code",
   "execution_count": 20,
   "metadata": {},
   "outputs": [
    {
     "name": "stdout",
     "output_type": "stream",
     "text": [
      "{'dataset': {'id': 10095370, 'dataset_code': 'AFX_X', 'database_code': 'FSE', 'name': 'Carl Zeiss Meditec (AFX_X)', 'description': 'Stock Prices for Carl Zeiss Meditec (2020-07-10) from the Frankfurt Stock Exchange.<br><br>Trading System: Xetra<br><br>ISIN: DE0005313704', 'refreshed_at': '2020-07-24T22:16:22.029Z', 'newest_available_date': '2020-07-24', 'oldest_available_date': '2000-06-07', 'column_names': ['Date', 'Open', 'High', 'Low', 'Close', 'Change', 'Traded Volume', 'Turnover', 'Last Price of the Day', 'Daily Traded Units', 'Daily Turnover'], 'frequency': 'daily', 'type': 'Time Series', 'premium': False, 'limit': None, 'transform': None, 'column_index': None, 'start_date': '2020-07-19', 'end_date': '2020-07-24', 'data': [['2020-07-24', 90.5, 90.5, 87.85, 87.9, None, 177031.0, 15683394.95, None, None, None], ['2020-07-23', 88.4, 91.55, 88.15, 91.55, None, 146866.0, 13280553.85, None, None, None], ['2020-07-22', 88.6, 89.1, 87.4, 88.75, None, 101234.0, 8954258.2, None, None, None], ['2020-07-21', 89.55, 89.95, 87.75, 88.5, None, 195028.0, 17331900.8, None, None, None], ['2020-07-20', 88.25, 89.5, 87.55, 88.95, None, 227635.0, 20134893.65, None, None, None]], 'collapse': None, 'order': None, 'database_id': 6129}}\n"
     ]
    }
   ],
   "source": [
    "# Inspect the JSON structure of the object you created, and take note of how nested it is,\n",
    "# as well as the overall structure\n",
    "print(json_data)"
   ]
  },
  {
   "cell_type": "markdown",
   "metadata": {},
   "source": [
    "These are your tasks for this mini project:\n",
    "\n",
    "1. Collect data from the Franfurt Stock Exchange, for the ticker AFX_X, for the whole year 2017 (keep in mind that the date format is YYYY-MM-DD).\n",
    "2. Convert the returned JSON object into a Python dictionary.\n",
    "3. Calculate what the highest and lowest opening prices were for the stock in this period.\n",
    "4. What was the largest change in any one day (based on High and Low price)?\n",
    "5. What was the largest change between any two days (based on Closing Price)?\n",
    "6. What was the average daily trading volume during this year?\n",
    "7. (Optional) What was the median trading volume during this year. (Note: you may need to implement your own function for calculating the median.)"
   ]
  },
  {
   "cell_type": "code",
   "execution_count": 21,
   "metadata": {},
   "outputs": [
    {
     "name": "stdout",
     "output_type": "stream",
     "text": [
      "{'dataset': {'id': 10095370, 'dataset_code': 'AFX_X', 'database_code': 'FSE', 'name': 'Carl Zeiss Meditec (AFX_X)', 'description': 'Stock Prices for Carl Zeiss Meditec (2020-07-10) from the Frankfurt Stock Exchange.<br><br>Trading System: Xetra<br><br>ISIN: DE0005313704', 'refreshed_at': '2020-07-24T22:16:22.029Z', 'newest_available_date': '2020-07-24', 'oldest_available_date': '2000-06-07', 'column_names': ['Date', 'Open', 'High', 'Low', 'Close', 'Change', 'Traded Volume', 'Turnover', 'Last Price of the Day', 'Daily Traded Units', 'Daily Turnover'], 'frequency': 'daily', 'type': 'Time Series', 'premium': False, 'limit': None, 'transform': None, 'column_index': None, 'start_date': '2019-07-24', 'end_date': '2020-07-24', 'data': [['2020-07-24', 90.5, 90.5, 87.85, 87.9, None, 177031.0, 15683394.95, None, None, None], ['2020-07-23', 88.4, 91.55, 88.15, 91.55, None, 146866.0, 13280553.85, None, None, None], ['2020-07-22', 88.6, 89.1, 87.4, 88.75, None, 101234.0, 8954258.2, None, None, None], ['2020-07-21', 89.55, 89.95, 87.75, 88.5, None, 195028.0, 17331900.8, None, None, None], ['2020-07-20', 88.25, 89.5, 87.55, 88.95, None, 227635.0, 20134893.65, None, None, None], ['2020-07-17', 89.15, 90.5, 88.0, 88.4, None, 163078.0, 14464839.25, None, None, None], ['2020-07-16', 90.65, 90.65, 87.9, 88.95, None, 197755.0, 17652520.05, None, None, None], ['2020-07-15', 90.0, 91.7, 86.3, 91.7, None, 258220.0, 23077220.7, None, None, None], ['2020-07-14', 90.1, 90.15, 88.1, 89.2, None, 183507.0, 16350975.75, None, None, None], ['2020-07-13', 90.45, 91.15, 88.6, 91.05, None, 87454.0, 7915927.0, None, None, None], ['2020-07-10', 89.25, 91.55, 88.9, 89.9, None, 93540.0, 8453243.25, None, None, None], ['2020-07-09', 91.15, 91.35, 89.45, 89.55, None, 181776.0, 16405326.65, None, None, None], ['2020-07-08', 92.0, 92.55, 90.15, 90.3, None, 153582.0, 13970079.05, None, None, None], ['2020-07-07', 92.95, 93.65, 91.15, 92.5, None, 153153.0, 14109118.8, None, None, None], ['2020-07-06', 93.8, 93.9, 92.8, 93.8, None, 98508.0, 9199714.85, None, None, None], ['2020-07-03', 93.1, 93.85, 91.9, 92.35, None, 114471.0, 10617857.55, None, None, None], ['2020-07-02', 89.75, 93.8, 88.8, 92.85, None, 365676.0, 33662061.9, None, None, None], ['2020-07-01', 86.2, 89.25, 86.0, 89.25, None, 106604.0, 9438618.8, None, None, None], ['2020-06-30', 87.0, 87.15, 85.0, 86.8, None, 138372.0, 11944211.15, None, None, None], ['2020-06-29', 88.0, 88.85, 86.5, 87.05, None, 76589.0, 6688133.9, None, None, None], ['2020-06-26', 88.2, 89.4, 86.65, 88.05, None, 123809.0, 10922723.5, None, None, None], ['2020-06-25', 86.25, 88.25, 84.8, 87.8, None, 118166.0, 10302946.05, None, None, None], ['2020-06-24', 90.05, 90.25, 86.2, 86.2, None, 115847.0, 10143798.5, None, None, None], ['2020-06-23', 89.2, 91.0, 88.6, 89.95, None, 112453.0, 10108636.8, None, None, None], ['2020-06-22', 90.35, 90.7, 87.85, 88.55, None, 116991.0, 10394476.9, None, None, None], ['2020-06-19', 90.55, 91.8, 90.0, 91.25, None, 174766.0, 15936379.65, None, None, None], ['2020-06-18', 91.6, 91.85, 89.6, 90.05, None, 98019.0, 8859710.65, None, None, None], ['2020-06-17', 90.55, 92.15, 89.7, 91.45, None, 149331.0, 13655800.2, None, None, None], ['2020-06-16', 88.35, 90.75, 87.45, 90.65, None, 206243.0, 18478591.35, None, None, None], ['2020-06-15', 85.0, 86.9, 84.75, 86.35, None, 181008.0, 15502164.95, None, None, None], ['2020-06-12', 85.65, 87.9, 84.85, 86.4, None, 137604.0, 11931180.75, None, None, None], ['2020-06-11', 87.0, 87.65, 85.55, 86.3, None, 127406.0, 11026683.1, None, None, None], ['2020-06-10', 89.25, 90.1, 87.0, 87.8, None, 192426.0, 16965135.2, None, None, None], ['2020-06-09', 91.65, 93.25, 89.2, 89.35, None, 209173.0, 18983014.7, None, None, None], ['2020-06-08', 92.65, 92.65, 89.8, 91.7, None, 172403.0, 15698539.85, None, None, None], ['2020-06-05', 91.6, 93.3, 90.65, 93.15, None, 185077.0, 17116028.75, None, None, None], ['2020-06-04', 92.3, 92.8, 89.65, 91.4, None, 238456.0, 21679333.75, None, None, None], ['2020-06-03', 91.15, 93.3, 89.65, 92.9, None, 144255.0, 13282471.95, None, None, None], ['2020-06-02', 93.3, 93.5, 89.5, 91.0, None, 165446.0, 15036505.55, None, None, None], ['2020-05-29', 91.05, 93.1, 90.25, 92.1, None, 238162.0, 21887648.1, None, None, None], ['2020-05-28', 88.1, 91.7, 87.4, 91.45, None, 228651.0, 14809122.8, None, None, None], ['2020-05-27', 91.0, 91.2, 86.4, 87.3, None, 292506.0, 25754496.6, None, None, None], ['2020-05-26', 91.1, 93.35, 89.7, 90.85, None, 295589.0, 27089139.05, None, None, None], ['2020-05-25', 88.6, 92.7, 88.1, 92.6, None, 101335.0, 9240143.65, None, None, None], ['2020-05-22', 87.35, 88.5, 85.45, 87.65, None, 170878.0, 14839809.55, None, None, None], ['2020-05-21', 90.95, 90.95, 87.8, 87.9, None, 103051.0, 9147975.45, None, None, None], ['2020-05-20', 92.5, 93.3, 91.3, 91.8, None, 169820.0, 15657134.85, None, None, None], ['2020-05-19', 90.45, 92.8, 89.8, 92.5, None, 215504.0, 19826326.1, None, None, None], ['2020-05-18', 85.45, 89.95, 84.9, 89.65, None, 202085.0, 17790850.8, None, None, None], ['2020-05-15', 82.25, 84.85, 80.65, 83.8, None, 219726.0, 18211281.9, None, None, None], ['2020-05-14', 84.7, 85.3, 81.15, 81.35, None, 227178.0, 18722697.45, None, None, None], ['2020-05-13', 85.5, 87.9, 83.8, 85.75, None, 229089.0, 19608050.05, None, None, None], ['2020-05-12', 91.55, 91.55, 86.0, 86.0, None, 332344.0, 29093515.5, None, None, None], ['2020-05-11', 97.0, 97.7, 90.75, 91.8, None, 202683.0, 18762257.75, None, None, None], ['2020-05-08', 96.35, 97.35, 95.15, 95.3, None, 134071.0, 12869764.45, None, None, None], ['2020-05-07', 94.55, 97.25, 94.25, 96.0, None, 210096.0, 20200879.55, None, None, None], ['2020-05-06', 92.8, 94.7, 91.45, 93.95, None, 129479.0, 12095616.85, None, None, None], ['2020-05-05', 88.9, 92.6, 88.25, 92.6, None, 131163.0, 12019019.15, None, None, None], ['2020-05-04', 87.65, 88.1, 85.95, 87.65, None, 168947.0, 14745103.15, None, None, None], ['2020-04-30', 91.6, 92.1, 89.9, 89.95, None, 137448.0, 12454130.55, None, None, None], ['2020-04-29', 90.0, 91.0, 87.85, 90.95, None, 143888.0, 12901979.9, None, None, None], ['2020-04-28', 92.0, 92.2, 89.15, 89.65, None, 163949.0, 14804941.85, None, None, None], ['2020-04-27', 95.05, 95.35, 92.1, 92.1, None, 109266.0, 10128133.7, None, None, None], ['2020-04-24', 94.4, 94.6, 92.35, 93.1, None, 111240.0, 10358166.75, None, None, None], ['2020-04-23', 94.75, 95.5, 92.7, 94.8, None, 123862.0, 11684265.45, None, None, None], ['2020-04-22', 92.75, 94.65, 91.6, 94.65, None, 126830.0, 11898048.5, None, None, None], ['2020-04-21', 93.4, 93.95, 91.5, 91.5, None, 115152.0, 10603440.3, None, None, None], ['2020-04-20', 94.0, 94.65, 91.9, 94.15, None, 124634.0, 11640880.35, None, None, None], ['2020-04-17', 93.4, 94.05, 91.85, 92.9, None, 185554.0, 17165035.1, None, None, None], ['2020-04-16', 91.9, 92.75, 90.7, 91.45, None, 162831.0, 14907520.55, None, None, None], ['2020-04-15', 94.0, 94.6, 90.15, 90.95, None, 204001.0, 18647943.8, None, None, None], ['2020-04-14', 97.5, 98.0, 93.35, 94.05, None, 147594.0, 13964369.1, None, None, None], ['2020-04-09', 93.1, 95.4, 92.05, 95.4, None, 161578.0, 15199731.2, None, None, None], ['2020-04-08', 90.2, 92.25, 89.8, 92.2, None, 152911.0, 14008042.75, None, None, None], ['2020-04-07', 92.0, 92.55, 88.9, 89.5, None, 218796.0, 19809733.65, None, None, None], ['2020-04-06', 86.35, 89.65, 86.25, 89.65, None, 165074.0, 14584495.75, None, None, None], ['2020-04-03', 83.1, 85.45, 82.5, 84.0, None, 184124.0, 15495174.4, None, None, None], ['2020-04-02', 86.0, 87.15, 79.5, 82.5, None, 300359.0, 24916457.15, None, None, None], ['2020-04-01', 86.5, 86.9, 85.0, 86.1, None, 192187.0, 16541381.35, None, None, None], ['2020-03-31', 92.0, 92.65, 88.15, 88.35, None, 311491.0, 27892906.55, None, None, None], ['2020-03-30', 85.4, 88.9, 83.1, 88.9, None, 167955.0, 14624880.3, None, None, None], ['2020-03-27', 89.0, 90.85, 83.5, 83.95, None, 231618.0, 19986099.3, None, None, None], ['2020-03-26', 81.5, 91.05, 81.5, 91.05, None, 274322.0, 23971500.55, None, None, None], ['2020-03-25', 82.5, 90.4, 80.6, 83.1, None, 284087.0, 23870691.15, None, None, None], ['2020-03-24', 79.2, 79.45, 76.6, 79.45, None, 256310.0, 20107995.1, None, None, None], ['2020-03-23', 74.5, 77.05, 72.9, 75.0, None, 187013.0, 14032458.1, None, None, None], ['2020-03-20', 76.65, 82.35, 75.7, 78.25, None, 446534.0, 34997042.95, None, None, None], ['2020-03-19', 69.15, 74.7, 67.7, 73.45, None, 272648.0, 19466640.1, None, None, None], ['2020-03-18', 74.5, 75.25, 69.55, 69.7, None, 341817.0, 24444114.6, None, None, None], ['2020-03-17', 79.0, 80.1, 73.5, 75.1, None, 265313.0, 20046246.2, None, None, None], ['2020-03-16', 75.0, 76.9, 71.45, 76.15, None, 422533.0, 31664759.85, None, None, None], ['2020-03-13', 77.75, 84.05, 76.85, 78.85, None, 457906.0, 36529317.4, None, None, None], ['2020-03-12', 77.75, 81.65, 75.8, 76.45, None, 428846.0, 33545984.85, None, None, None], ['2020-03-11', 87.6, 88.45, 83.85, 84.3, None, 250339.0, 21276696.5, None, None, None], ['2020-03-10', 88.25, 90.3, 86.0, 86.8, None, 324702.0, 28663267.75, None, None, None], ['2020-03-09', 87.65, 92.15, 85.1, 87.2, None, 392049.0, 34832184.95, None, None, None], ['2020-03-06', 95.0, 95.1, 91.9, 94.15, None, 211996.0, 19868077.2, None, None, None], ['2020-03-05', 101.3, 102.6, 96.35, 97.2, None, 230406.0, 22585334.7, None, None, None], ['2020-03-04', 98.3, 100.5, 97.55, 100.1, None, 251085.0, 24993655.35, None, None, None], ['2020-03-03', 97.1, 99.9, 95.55, 98.05, None, 435677.0, 42953287.0, None, None, None], ['2020-03-02', 96.5, 98.3, 93.55, 95.05, None, 285867.0, 27318381.65, None, None, None], ['2020-02-28', 90.05, 94.75, 89.65, 94.75, None, 468539.0, 43691138.55, None, None, None], ['2020-02-27', 97.95, 98.3, 93.75, 95.05, None, 253380.0, 24293170.5, None, None, None], ['2020-02-26', 98.5, 100.8, 96.35, 100.2, None, 371150.0, 36784605.3, None, None, None], ['2020-02-25', 105.6, 106.4, 100.6, 101.2, None, 250020.0, 25613306.6, None, None, None], ['2020-02-24', 104.0, 105.5, 102.2, 104.7, None, 211543.0, 22050204.4, None, None, None], ['2020-02-21', 110.1, 110.2, 107.7, 108.2, None, 119055.0, 12948891.0, None, None, None], ['2020-02-20', 111.3, 112.8, 109.9, 110.4, None, 139229.0, 15421757.0, None, None, None], ['2020-02-19', 110.3, 112.4, 109.5, 111.2, None, 138008.0, 15341487.0, None, None, None], ['2020-02-18', 107.2, 109.8, 107.0, 109.6, None, 111209.0, 12136682.0, None, None, None], ['2020-02-17', 108.9, 109.1, 107.6, 108.8, None, 71884.0, 7784747.5, None, None, None], ['2020-02-14', 109.2, 110.1, 108.2, 108.9, None, 127710.0, 13932329.0, None, None, None], ['2020-02-13', 110.0, 111.0, 107.6, 109.5, None, 175311.0, 19094774.0, None, None, None], ['2020-02-12', 112.4, 112.4, 109.7, 110.0, None, 153713.0, 16973868.0, None, None, None], ['2020-02-11', 110.1, 113.6, 109.3, 112.2, None, 266600.0, 29766104.0, None, None, None], ['2020-02-10', 114.0, 121.1, 107.0, 109.4, None, 449853.0, 50064696.0, None, None, None], ['2020-02-07', 116.4, 117.4, 114.1, 114.9, None, 158446.0, 18250740.0, None, None, None], ['2020-02-06', 117.0, 117.2, 114.7, 116.4, None, 98097.0, 11377620.0, None, None, None], ['2020-02-05', 116.4, 117.0, 115.8, 116.1, None, 141363.0, 16440834.0, None, None, None], ['2020-02-04', 112.1, 115.7, 111.7, 115.0, None, 214584.0, 24603160.0, None, None, None], ['2020-02-03', 110.0, 112.0, 109.3, 111.4, None, 231387.0, 25691706.0, None, None, None], ['2020-01-31', 112.5, 113.7, 110.1, 110.5, None, 257830.0, 28708798.0, None, None, None], ['2020-01-30', 116.8, 118.0, 112.8, 113.3, None, 198663.0, 22749126.0, None, None, None], ['2020-01-29', 118.3, 118.8, 117.4, 117.7, None, 88563.0, 10438738.0, None, None, None], ['2020-01-28', 118.8, 119.6, 115.2, 118.1, None, 134333.0, 15754191.0, None, None, None], ['2020-01-27', 119.6, 119.7, 117.9, 118.0, None, 110778.0, 13126700.0, None, None, None], ['2020-01-24', 119.5, 120.7, 118.6, 120.2, None, 102713.0, 12323204.0, None, None, None], ['2020-01-23', 120.2, 120.9, 118.8, 118.8, None, 92012.0, 11007938.0, None, None, None], ['2020-01-22', 120.2, 121.1, 119.2, 119.7, None, 74016.0, 8885031.0, None, None, None], ['2020-01-21', 121.4, 121.4, 118.9, 119.6, None, 98600.0, 11805317.0, None, None, None], ['2020-01-20', 121.2, 122.1, 120.7, 121.4, None, 63664.0, 7721389.5, None, None, None], ['2020-01-17', 119.9, 121.1, 119.3, 120.8, None, 63663.0, 7671528.0, None, None, None], ['2020-01-16', 120.4, 120.8, 119.0, 119.2, None, 66065.0, 7893356.5, None, None, None], ['2020-01-15', 119.5, 120.7, 119.1, 120.0, None, 111393.0, 13370345.0, None, None, None], ['2020-01-14', 117.6, 119.5, 116.7, 119.3, None, 105126.0, 12492392.0, None, None, None], ['2020-01-13', 118.0, 118.9, 117.0, 117.2, None, 84067.0, 9891618.0, None, None, None], ['2020-01-10', 119.6, 120.4, 117.3, 117.5, None, 102423.0, 12098654.0, None, None, None], ['2020-01-09', 118.4, 119.8, 117.5, 119.2, None, 134426.0, 15973124.0, None, None, None], ['2020-01-08', 114.2, 116.8, 114.0, 116.4, None, 82884.0, 9602366.0, None, None, None], ['2020-01-07', 114.4, 116.9, 114.3, 114.9, None, 98974.0, 11431904.0, None, None, None], ['2020-01-06', 112.0, 114.3, 111.7, 114.0, None, 95697.0, 10844169.0, None, None, None], ['2020-01-03', 112.8, 113.4, 112.0, 113.4, None, 82304.0, 9289987.0, None, None, None], ['2020-01-02', 114.0, 114.9, 112.7, 113.8, None, 143464.0, 16291666.0, None, None, None], ['2019-12-30', 116.4, 116.5, 113.7, 113.7, None, 60915.0, 6979033.0, None, None, None], ['2019-12-27', 116.0, 116.3, 115.0, 116.3, None, 62154.0, 7208475.5, None, None, None], ['2019-12-23', 115.0, 116.2, 114.6, 114.9, None, 66229.0, 7626266.1, None, None, None], ['2019-12-20', 115.9, 116.7, 114.4, 114.6, None, 185866.0, 21368077.0, None, None, None], ['2019-12-19', 115.8, 116.2, 114.9, 115.6, None, 124269.0, 14364060.2, None, None, None], ['2019-12-18', 115.4, 115.9, 114.3, 115.5, None, 124036.0, 14308979.8, None, None, None], ['2019-12-17', 113.4, 115.6, 113.1, 115.6, None, 198741.0, 22797197.4, None, None, None], ['2019-12-16', 111.9, 113.5, 111.1, 112.9, None, 123873.0, 13933520.7, None, None, None], ['2019-12-13', 113.0, 113.0, 110.5, 111.3, None, 115681.0, 12875607.7, None, None, None], ['2019-12-12', 113.0, 113.9, 111.4, 111.9, None, 169064.0, 18990658.0, None, None, None], ['2019-12-11', 113.8, 113.8, 110.9, 112.0, None, 149438.0, 16744868.0, None, None, None], ['2019-12-10', 114.0, 115.3, 110.0, 113.0, None, 219116.0, 24654700.0, None, None, None], ['2019-12-09', 105.1, 114.7, 105.1, 114.3, None, 405833.0, 45488588.0, None, None, None], ['2019-12-06', 106.6, 106.6, 99.6, 103.1, None, 561633.0, 57520904.0, None, None, None], ['2019-12-05', 110.1, 110.3, 109.2, 110.1, None, 69911.0, 7687537.5, None, None, None], ['2019-12-04', 108.6, 110.4, 108.5, 109.6, None, 91446.0, 10015437.0, None, None, None], ['2019-12-03', 107.7, 110.1, 107.3, 108.9, None, 130237.0, 14162319.0, None, None, None], ['2019-12-02', 111.0, 111.4, 107.2, 107.6, None, 144610.0, 15685797.0, None, None, None], ['2019-11-29', 108.2, 112.7, 108.1, 111.0, None, 168617.0, 18731904.0, None, None, None], ['2019-11-28', 109.1, 109.1, 107.5, 108.1, None, 44677.0, 4827719.0, None, None, None], ['2019-11-27', 109.9, 110.0, 108.0, 108.6, None, 80332.0, 8731068.0, None, None, None], ['2019-11-26', 108.6, 110.0, 107.5, 109.5, None, 280313.0, 30604384.0, None, None, None], ['2019-11-25', 107.4, 109.1, 106.4, 108.1, None, 101435.0, 10965700.0, None, None, None], ['2019-11-22', 106.1, 107.1, 105.9, 106.6, None, 116214.0, 12391521.0, None, None, None], ['2019-11-21', 105.5, 106.9, 104.6, 106.0, None, 135671.0, 14383910.0, None, None, None], ['2019-11-20', 104.5, 107.4, 104.2, 106.0, None, 148853.0, 15777142.0, None, None, None], ['2019-11-19', 104.9, 105.3, 103.9, 104.5, None, 86228.0, 9006823.0, None, None, None], ['2019-11-18', 104.0, 105.5, 103.8, 104.8, None, 100901.0, 10565891.0, None, None, None], ['2019-11-15', 102.0, 104.1, 101.9, 104.0, None, 102061.0, 10555093.0, None, None, None], ['2019-11-14', 102.6, 102.9, 100.4, 101.6, None, 89727.0, 9123501.0, None, None, None], ['2019-11-13', 100.4, 102.3, 100.4, 102.3, None, 106648.0, 10854356.0, None, None, None], ['2019-11-12', 101.1, 102.0, 98.9, 101.0, None, 128193.0, 12877095.0, None, None, None], ['2019-11-11', 102.1, 103.8, 100.6, 100.8, None, 95512.0, 9684446.0, None, None, None], ['2019-11-08', 101.8, 102.8, 100.2, 101.8, None, 127304.0, 12917154.0, None, None, None], ['2019-11-07', 103.7, 104.1, 101.2, 102.2, None, 145112.0, 14855882.0, None, None, None], ['2019-11-06', 100.5, 103.2, 99.4, 103.2, None, 132904.0, 13585029.0, None, None, None], ['2019-11-05', 99.65, 100.7, 98.4, 100.3, None, 138382.0, 13834720.0, None, None, None], ['2019-11-04', 98.95, 100.2, 97.1, 99.35, None, 140821.0, 13931740.0, None, None, None], ['2019-11-01', 98.5, 99.65, 98.15, 98.65, None, 84471.0, 8332533.0, None, None, None], ['2019-10-31', 98.05, 99.15, 97.75, 97.75, None, 105779.0, 10379837.0, None, None, None], ['2019-10-30', 96.45, 98.85, 96.0, 98.05, None, 101101.0, 9910827.0, None, None, None], ['2019-10-29', 95.5, 96.55, 94.45, 96.1, None, 113338.0, 10820482.0, None, None, None], ['2019-10-28', 97.7, 97.95, 95.35, 95.85, None, 113497.0, 10914759.0, None, None, None], ['2019-10-25', 96.1, 97.55, 95.4, 97.0, None, 155040.0, 14968588.0, None, None, None], ['2019-10-24', 94.15, 96.4, 92.8, 96.0, None, 275194.0, 26191594.0, None, None, None], ['2019-10-23', 100.4, 100.8, 89.35, 92.55, None, 605001.0, 56532324.0, None, None, None], ['2019-10-22', 101.7, 102.7, 99.9, 101.5, None, 90905.0, 9234451.0, None, None, None], ['2019-10-21', 103.7, 104.1, 100.7, 101.4, None, 108567.0, 11048451.0, None, None, None], ['2019-10-18', 103.9, 104.7, 103.2, 103.7, None, 73189.0, 7598035.5, None, None, None], ['2019-10-17', 103.2, 104.5, 102.9, 103.8, None, 115138.0, 11944767.0, None, None, None], ['2019-10-16', 104.1, 104.7, 101.4, 103.2, None, 116588.0, 12026270.0, None, None, None], ['2019-10-15', 104.0, 104.8, 102.8, 103.9, None, 79933.0, 8308760.5, None, None, None], ['2019-10-14', 102.4, 103.3, 101.1, 103.2, None, 83291.0, 8556893.0, None, None, None], ['2019-10-11', 103.0, 103.7, 101.1, 102.4, None, 124625.0, 12751459.0, None, None, None], ['2019-10-10', 107.0, 107.0, 101.9, 102.5, None, 204279.0, 21027192.0, None, None, None], ['2019-10-09', 106.3, 107.7, 105.5, 107.0, None, 94098.0, 10050758.0, None, None, None], ['2019-10-08', 109.5, 109.9, 106.3, 106.5, None, 97553.0, 10483011.0, None, None, None], ['2019-10-07', 108.5, 110.3, 107.5, 108.8, None, 97154.0, 10561664.0, None, None, None], ['2019-10-04', 105.0, 109.5, 104.4, 108.2, None, 198283.0, 21355196.0, None, None, None], ['2019-10-02', 104.9, 111.5, 103.7, 105.6, None, 342563.0, 36835516.0, None, None, None], ['2019-10-01', 105.3, 105.9, 103.8, 104.8, None, 132282.0, 13861037.0, None, None, None], ['2019-09-30', 104.2, 105.1, 102.7, 104.6, None, 92395.0, 9628660.0, None, None, None], ['2019-09-27', 103.7, 104.0, 102.5, 103.5, None, 74036.0, 7656140.5, None, None, None], ['2019-09-26', 102.3, 104.3, 101.5, 103.8, None, 78159.0, 8096350.5, None, None, None], ['2019-09-25', 104.0, 104.2, 100.1, 101.5, None, 169893.0, 17234866.0, None, None, None], ['2019-09-24', 103.6, 105.2, 103.6, 105.0, None, 61623.0, 6452339.0, None, None, None], ['2019-09-23', 103.1, 105.1, 102.8, 103.8, None, 69848.0, 7263194.5, None, None, None], ['2019-09-20', 104.9, 105.0, 101.8, 103.3, None, 198709.0, 20505680.0, None, None, None], ['2019-09-19', 102.7, 104.8, 102.1, 104.5, None, 125080.0, 13001448.0, None, None, None], ['2019-09-18', 102.4, 104.0, 102.2, 103.3, None, 117228.0, 12104268.0, None, None, None], ['2019-09-17', 99.7, 102.1, 98.7, 102.0, None, 135793.0, 13767140.0, None, None, None], ['2019-09-16', 99.0, 99.75, 97.85, 99.35, None, 112585.0, 11171601.0, None, None, None], ['2019-09-13', 102.2, 102.3, 98.1, 98.9, None, 130746.0, 12958266.0, None, None, None], ['2019-09-12', 101.9, 102.8, 100.6, 101.9, None, 119437.0, 12145270.0, None, None, None], ['2019-09-11', 100.7, 101.7, 99.0, 101.0, None, 171872.0, 17257904.0, None, None, None], ['2019-09-10', 105.5, 105.5, 99.75, 100.5, None, 271425.0, 27466300.0, None, None, None], ['2019-09-09', 109.1, 109.7, 105.7, 105.7, None, 86187.0, 9187726.0, None, None, None], ['2019-09-06', 106.1, 109.6, 106.0, 108.7, None, 101489.0, 11006270.0, None, None, None], ['2019-09-05', 109.0, 110.9, 106.2, 106.4, None, 91265.0, 9771449.0, None, None, None], ['2019-09-04', 107.4, 109.1, 107.1, 108.3, None, 94641.0, 10247516.0, None, None, None], ['2019-09-03', 107.4, 107.7, 105.9, 107.0, None, 105012.0, 11237644.0, None, None, None], ['2019-09-02', 104.5, 107.5, 104.5, 106.7, None, 91105.0, 9729992.0, None, None, None], ['2019-08-30', 105.7, 105.7, 104.4, 104.9, None, 120743.0, 12667534.0, None, None, None], ['2019-08-29', 107.0, 107.6, 105.7, 105.7, None, 87491.0, 9291293.0, None, None, None], ['2019-08-28', 105.0, 107.0, 104.4, 106.6, None, 110155.0, 11686854.0, None, None, None], ['2019-08-27', 103.0, 105.2, 102.6, 105.1, None, 165727.0, 17367660.0, None, None, None], ['2019-08-26', 102.8, 103.1, 101.4, 103.0, None, 63857.0, 6556853.5, None, None, None], ['2019-08-23', 103.4, 105.0, 102.8, 102.8, None, 97791.0, 10120408.0, None, None, None], ['2019-08-22', 104.6, 106.7, 103.3, 103.3, None, 140365.0, 14598704.0, None, None, None], ['2019-08-21', 101.2, 104.3, 100.9, 103.6, None, 111234.0, 11480594.0, None, None, None], ['2019-08-20', 101.4, 102.9, 100.5, 100.6, None, 111166.0, 11268671.0, None, None, None], ['2019-08-19', 100.3, 101.3, 98.2, 101.2, None, 131618.0, 13223834.0, None, None, None], ['2019-08-16', 98.35, 99.4, 97.15, 99.3, None, 106762.0, 10549874.0, None, None, None], ['2019-08-15', 100.2, 101.0, 96.45, 97.9, None, 133330.0, 13092741.0, None, None, None], ['2019-08-14', 99.55, 103.1, 99.3, 100.8, None, 192752.0, 19524066.0, None, None, None], ['2019-08-13', 99.05, 99.6, 97.55, 98.75, None, 113097.0, 11171934.0, None, None, None], ['2019-08-12', 100.0, 101.6, 98.2, 98.95, None, 111146.0, 11031779.0, None, None, None], ['2019-08-09', 99.2, 104.3, 94.4, 99.05, None, 217386.0, 21511178.0, None, None, None], ['2019-08-08', 95.35, 95.35, 94.2, 95.1, None, 110482.0, 10474803.0, None, None, None], ['2019-08-07', 94.15, 95.05, 93.05, 93.9, None, 119157.0, 11200026.0, None, None, None], ['2019-08-06', 93.65, 95.15, 93.25, 93.25, None, 119714.0, 11218618.0, None, None, None], ['2019-08-05', 96.35, 96.35, 92.75, 94.05, None, 232748.0, 21909462.0, None, None, None], ['2019-08-02', 99.95, 100.8, 97.25, 97.25, None, 124704.0, 12224533.0, None, None, None], ['2019-08-01', 99.6, 100.7, 99.3, 100.5, None, 102399.0, 10267086.0, None, None, None], ['2019-07-31', 99.0, 99.75, 98.35, 99.45, None, 106057.0, 10535986.0, None, None, None], ['2019-07-30', 100.3, 100.4, 98.85, 99.2, None, 117634.0, 11712535.0, None, None, None], ['2019-07-29', 98.95, 100.4, 98.75, 99.85, None, 104305.0, 10408428.0, None, None, None], ['2019-07-26', 96.5, 99.3, 96.15, 99.0, None, 116311.0, 11474417.0, None, None, None], ['2019-07-25', 98.35, 99.5, 96.9, 97.25, None, 84809.0, 8301676.5, None, None, None], ['2019-07-24', 98.45, 98.95, 96.65, 97.5, None, 111280.0, 10851049.0, None, None, None]], 'collapse': None, 'order': None, 'database_id': 6129}}\n"
     ]
    }
   ],
   "source": [
    "url = \"https://www.quandl.com/api/v3/datasets/FSE/AFX_X.json?api_key=jAtUdww8aP6fZHznkaLm&start_date=2019-07-24\"\n",
    "r = requests.get(url)\n",
    "json_data = r.json()\n",
    "print(json_data)"
   ]
  },
  {
   "cell_type": "code",
   "execution_count": 22,
   "metadata": {},
   "outputs": [
    {
     "ename": "TypeError",
     "evalue": "expected str, bytes or os.PathLike object, not dict",
     "output_type": "error",
     "traceback": [
      "\u001b[0;31m---------------------------------------------------------------------------\u001b[0m",
      "\u001b[0;31mTypeError\u001b[0m                                 Traceback (most recent call last)",
      "\u001b[0;32m<ipython-input-22-007825238f3c>\u001b[0m in \u001b[0;36m<module>\u001b[0;34m\u001b[0m\n\u001b[0;32m----> 1\u001b[0;31m \u001b[0;32mwith\u001b[0m \u001b[0mopen\u001b[0m\u001b[0;34m(\u001b[0m\u001b[0mjson_data\u001b[0m\u001b[0;34m)\u001b[0m \u001b[0;32mas\u001b[0m \u001b[0mjson_rd\u001b[0m\u001b[0;34m:\u001b[0m\u001b[0;34m\u001b[0m\u001b[0;34m\u001b[0m\u001b[0m\n\u001b[0m\u001b[1;32m      2\u001b[0m     \u001b[0mdata\u001b[0m \u001b[0;34m=\u001b[0m \u001b[0mjson\u001b[0m\u001b[0;34m.\u001b[0m\u001b[0mload\u001b[0m\u001b[0;34m(\u001b[0m\u001b[0mjson_rd\u001b[0m\u001b[0;34m.\u001b[0m\u001b[0mread\u001b[0m\u001b[0;34m(\u001b[0m\u001b[0;34m)\u001b[0m\u001b[0;34m)\u001b[0m\u001b[0;34m\u001b[0m\u001b[0;34m\u001b[0m\u001b[0m\n",
      "\u001b[0;31mTypeError\u001b[0m: expected str, bytes or os.PathLike object, not dict"
     ]
    }
   ],
   "source": [
    "with open(json_data) as json_rd: \n",
    "    data = json.load(json_rd.read()) "
   ]
  },
  {
   "cell_type": "code",
   "execution_count": 23,
   "metadata": {},
   "outputs": [
    {
     "ename": "NameError",
     "evalue": "name 'data' is not defined",
     "output_type": "error",
     "traceback": [
      "\u001b[0;31m---------------------------------------------------------------------------\u001b[0m",
      "\u001b[0;31mNameError\u001b[0m                                 Traceback (most recent call last)",
      "\u001b[0;32m<ipython-input-23-653be6e696a0>\u001b[0m in \u001b[0;36m<module>\u001b[0;34m\u001b[0m\n\u001b[0;32m----> 1\u001b[0;31m \u001b[0mprint\u001b[0m\u001b[0;34m(\u001b[0m\u001b[0mtype\u001b[0m\u001b[0;34m(\u001b[0m\u001b[0mdata\u001b[0m\u001b[0;34m)\u001b[0m\u001b[0;34m)\u001b[0m\u001b[0;34m\u001b[0m\u001b[0;34m\u001b[0m\u001b[0m\n\u001b[0m\u001b[1;32m      2\u001b[0m \u001b[0mprint\u001b[0m\u001b[0;34m(\u001b[0m\u001b[0mdata\u001b[0m\u001b[0;34m)\u001b[0m\u001b[0;34m\u001b[0m\u001b[0;34m\u001b[0m\u001b[0m\n",
      "\u001b[0;31mNameError\u001b[0m: name 'data' is not defined"
     ]
    }
   ],
   "source": [
    "print(type(data))\n",
    "print(data)"
   ]
  },
  {
   "cell_type": "code",
   "execution_count": 24,
   "metadata": {},
   "outputs": [
    {
     "name": "stdout",
     "output_type": "stream",
     "text": [
      "<class 'dict'>\n"
     ]
    }
   ],
   "source": [
    "print(type(json_data))"
   ]
  },
  {
   "cell_type": "code",
   "execution_count": 28,
   "metadata": {},
   "outputs": [
    {
     "name": "stdout",
     "output_type": "stream",
     "text": [
      "[['2020-07-24', 90.5, 90.5, 87.85, 87.9, None, 177031.0, 15683394.95, None, None, None], ['2020-07-23', 88.4, 91.55, 88.15, 91.55, None, 146866.0, 13280553.85, None, None, None], ['2020-07-22', 88.6, 89.1, 87.4, 88.75, None, 101234.0, 8954258.2, None, None, None], ['2020-07-21', 89.55, 89.95, 87.75, 88.5, None, 195028.0, 17331900.8, None, None, None], ['2020-07-20', 88.25, 89.5, 87.55, 88.95, None, 227635.0, 20134893.65, None, None, None], ['2020-07-17', 89.15, 90.5, 88.0, 88.4, None, 163078.0, 14464839.25, None, None, None], ['2020-07-16', 90.65, 90.65, 87.9, 88.95, None, 197755.0, 17652520.05, None, None, None], ['2020-07-15', 90.0, 91.7, 86.3, 91.7, None, 258220.0, 23077220.7, None, None, None], ['2020-07-14', 90.1, 90.15, 88.1, 89.2, None, 183507.0, 16350975.75, None, None, None], ['2020-07-13', 90.45, 91.15, 88.6, 91.05, None, 87454.0, 7915927.0, None, None, None], ['2020-07-10', 89.25, 91.55, 88.9, 89.9, None, 93540.0, 8453243.25, None, None, None], ['2020-07-09', 91.15, 91.35, 89.45, 89.55, None, 181776.0, 16405326.65, None, None, None], ['2020-07-08', 92.0, 92.55, 90.15, 90.3, None, 153582.0, 13970079.05, None, None, None], ['2020-07-07', 92.95, 93.65, 91.15, 92.5, None, 153153.0, 14109118.8, None, None, None], ['2020-07-06', 93.8, 93.9, 92.8, 93.8, None, 98508.0, 9199714.85, None, None, None], ['2020-07-03', 93.1, 93.85, 91.9, 92.35, None, 114471.0, 10617857.55, None, None, None], ['2020-07-02', 89.75, 93.8, 88.8, 92.85, None, 365676.0, 33662061.9, None, None, None], ['2020-07-01', 86.2, 89.25, 86.0, 89.25, None, 106604.0, 9438618.8, None, None, None], ['2020-06-30', 87.0, 87.15, 85.0, 86.8, None, 138372.0, 11944211.15, None, None, None], ['2020-06-29', 88.0, 88.85, 86.5, 87.05, None, 76589.0, 6688133.9, None, None, None], ['2020-06-26', 88.2, 89.4, 86.65, 88.05, None, 123809.0, 10922723.5, None, None, None], ['2020-06-25', 86.25, 88.25, 84.8, 87.8, None, 118166.0, 10302946.05, None, None, None], ['2020-06-24', 90.05, 90.25, 86.2, 86.2, None, 115847.0, 10143798.5, None, None, None], ['2020-06-23', 89.2, 91.0, 88.6, 89.95, None, 112453.0, 10108636.8, None, None, None], ['2020-06-22', 90.35, 90.7, 87.85, 88.55, None, 116991.0, 10394476.9, None, None, None], ['2020-06-19', 90.55, 91.8, 90.0, 91.25, None, 174766.0, 15936379.65, None, None, None], ['2020-06-18', 91.6, 91.85, 89.6, 90.05, None, 98019.0, 8859710.65, None, None, None], ['2020-06-17', 90.55, 92.15, 89.7, 91.45, None, 149331.0, 13655800.2, None, None, None], ['2020-06-16', 88.35, 90.75, 87.45, 90.65, None, 206243.0, 18478591.35, None, None, None], ['2020-06-15', 85.0, 86.9, 84.75, 86.35, None, 181008.0, 15502164.95, None, None, None], ['2020-06-12', 85.65, 87.9, 84.85, 86.4, None, 137604.0, 11931180.75, None, None, None], ['2020-06-11', 87.0, 87.65, 85.55, 86.3, None, 127406.0, 11026683.1, None, None, None], ['2020-06-10', 89.25, 90.1, 87.0, 87.8, None, 192426.0, 16965135.2, None, None, None], ['2020-06-09', 91.65, 93.25, 89.2, 89.35, None, 209173.0, 18983014.7, None, None, None], ['2020-06-08', 92.65, 92.65, 89.8, 91.7, None, 172403.0, 15698539.85, None, None, None], ['2020-06-05', 91.6, 93.3, 90.65, 93.15, None, 185077.0, 17116028.75, None, None, None], ['2020-06-04', 92.3, 92.8, 89.65, 91.4, None, 238456.0, 21679333.75, None, None, None], ['2020-06-03', 91.15, 93.3, 89.65, 92.9, None, 144255.0, 13282471.95, None, None, None], ['2020-06-02', 93.3, 93.5, 89.5, 91.0, None, 165446.0, 15036505.55, None, None, None], ['2020-05-29', 91.05, 93.1, 90.25, 92.1, None, 238162.0, 21887648.1, None, None, None], ['2020-05-28', 88.1, 91.7, 87.4, 91.45, None, 228651.0, 14809122.8, None, None, None], ['2020-05-27', 91.0, 91.2, 86.4, 87.3, None, 292506.0, 25754496.6, None, None, None], ['2020-05-26', 91.1, 93.35, 89.7, 90.85, None, 295589.0, 27089139.05, None, None, None], ['2020-05-25', 88.6, 92.7, 88.1, 92.6, None, 101335.0, 9240143.65, None, None, None], ['2020-05-22', 87.35, 88.5, 85.45, 87.65, None, 170878.0, 14839809.55, None, None, None], ['2020-05-21', 90.95, 90.95, 87.8, 87.9, None, 103051.0, 9147975.45, None, None, None], ['2020-05-20', 92.5, 93.3, 91.3, 91.8, None, 169820.0, 15657134.85, None, None, None], ['2020-05-19', 90.45, 92.8, 89.8, 92.5, None, 215504.0, 19826326.1, None, None, None], ['2020-05-18', 85.45, 89.95, 84.9, 89.65, None, 202085.0, 17790850.8, None, None, None], ['2020-05-15', 82.25, 84.85, 80.65, 83.8, None, 219726.0, 18211281.9, None, None, None], ['2020-05-14', 84.7, 85.3, 81.15, 81.35, None, 227178.0, 18722697.45, None, None, None], ['2020-05-13', 85.5, 87.9, 83.8, 85.75, None, 229089.0, 19608050.05, None, None, None], ['2020-05-12', 91.55, 91.55, 86.0, 86.0, None, 332344.0, 29093515.5, None, None, None], ['2020-05-11', 97.0, 97.7, 90.75, 91.8, None, 202683.0, 18762257.75, None, None, None], ['2020-05-08', 96.35, 97.35, 95.15, 95.3, None, 134071.0, 12869764.45, None, None, None], ['2020-05-07', 94.55, 97.25, 94.25, 96.0, None, 210096.0, 20200879.55, None, None, None], ['2020-05-06', 92.8, 94.7, 91.45, 93.95, None, 129479.0, 12095616.85, None, None, None], ['2020-05-05', 88.9, 92.6, 88.25, 92.6, None, 131163.0, 12019019.15, None, None, None], ['2020-05-04', 87.65, 88.1, 85.95, 87.65, None, 168947.0, 14745103.15, None, None, None], ['2020-04-30', 91.6, 92.1, 89.9, 89.95, None, 137448.0, 12454130.55, None, None, None], ['2020-04-29', 90.0, 91.0, 87.85, 90.95, None, 143888.0, 12901979.9, None, None, None], ['2020-04-28', 92.0, 92.2, 89.15, 89.65, None, 163949.0, 14804941.85, None, None, None], ['2020-04-27', 95.05, 95.35, 92.1, 92.1, None, 109266.0, 10128133.7, None, None, None], ['2020-04-24', 94.4, 94.6, 92.35, 93.1, None, 111240.0, 10358166.75, None, None, None], ['2020-04-23', 94.75, 95.5, 92.7, 94.8, None, 123862.0, 11684265.45, None, None, None], ['2020-04-22', 92.75, 94.65, 91.6, 94.65, None, 126830.0, 11898048.5, None, None, None], ['2020-04-21', 93.4, 93.95, 91.5, 91.5, None, 115152.0, 10603440.3, None, None, None], ['2020-04-20', 94.0, 94.65, 91.9, 94.15, None, 124634.0, 11640880.35, None, None, None], ['2020-04-17', 93.4, 94.05, 91.85, 92.9, None, 185554.0, 17165035.1, None, None, None], ['2020-04-16', 91.9, 92.75, 90.7, 91.45, None, 162831.0, 14907520.55, None, None, None], ['2020-04-15', 94.0, 94.6, 90.15, 90.95, None, 204001.0, 18647943.8, None, None, None], ['2020-04-14', 97.5, 98.0, 93.35, 94.05, None, 147594.0, 13964369.1, None, None, None], ['2020-04-09', 93.1, 95.4, 92.05, 95.4, None, 161578.0, 15199731.2, None, None, None], ['2020-04-08', 90.2, 92.25, 89.8, 92.2, None, 152911.0, 14008042.75, None, None, None], ['2020-04-07', 92.0, 92.55, 88.9, 89.5, None, 218796.0, 19809733.65, None, None, None], ['2020-04-06', 86.35, 89.65, 86.25, 89.65, None, 165074.0, 14584495.75, None, None, None], ['2020-04-03', 83.1, 85.45, 82.5, 84.0, None, 184124.0, 15495174.4, None, None, None], ['2020-04-02', 86.0, 87.15, 79.5, 82.5, None, 300359.0, 24916457.15, None, None, None], ['2020-04-01', 86.5, 86.9, 85.0, 86.1, None, 192187.0, 16541381.35, None, None, None], ['2020-03-31', 92.0, 92.65, 88.15, 88.35, None, 311491.0, 27892906.55, None, None, None], ['2020-03-30', 85.4, 88.9, 83.1, 88.9, None, 167955.0, 14624880.3, None, None, None], ['2020-03-27', 89.0, 90.85, 83.5, 83.95, None, 231618.0, 19986099.3, None, None, None], ['2020-03-26', 81.5, 91.05, 81.5, 91.05, None, 274322.0, 23971500.55, None, None, None], ['2020-03-25', 82.5, 90.4, 80.6, 83.1, None, 284087.0, 23870691.15, None, None, None], ['2020-03-24', 79.2, 79.45, 76.6, 79.45, None, 256310.0, 20107995.1, None, None, None], ['2020-03-23', 74.5, 77.05, 72.9, 75.0, None, 187013.0, 14032458.1, None, None, None], ['2020-03-20', 76.65, 82.35, 75.7, 78.25, None, 446534.0, 34997042.95, None, None, None], ['2020-03-19', 69.15, 74.7, 67.7, 73.45, None, 272648.0, 19466640.1, None, None, None], ['2020-03-18', 74.5, 75.25, 69.55, 69.7, None, 341817.0, 24444114.6, None, None, None], ['2020-03-17', 79.0, 80.1, 73.5, 75.1, None, 265313.0, 20046246.2, None, None, None], ['2020-03-16', 75.0, 76.9, 71.45, 76.15, None, 422533.0, 31664759.85, None, None, None], ['2020-03-13', 77.75, 84.05, 76.85, 78.85, None, 457906.0, 36529317.4, None, None, None], ['2020-03-12', 77.75, 81.65, 75.8, 76.45, None, 428846.0, 33545984.85, None, None, None], ['2020-03-11', 87.6, 88.45, 83.85, 84.3, None, 250339.0, 21276696.5, None, None, None], ['2020-03-10', 88.25, 90.3, 86.0, 86.8, None, 324702.0, 28663267.75, None, None, None], ['2020-03-09', 87.65, 92.15, 85.1, 87.2, None, 392049.0, 34832184.95, None, None, None], ['2020-03-06', 95.0, 95.1, 91.9, 94.15, None, 211996.0, 19868077.2, None, None, None], ['2020-03-05', 101.3, 102.6, 96.35, 97.2, None, 230406.0, 22585334.7, None, None, None], ['2020-03-04', 98.3, 100.5, 97.55, 100.1, None, 251085.0, 24993655.35, None, None, None], ['2020-03-03', 97.1, 99.9, 95.55, 98.05, None, 435677.0, 42953287.0, None, None, None], ['2020-03-02', 96.5, 98.3, 93.55, 95.05, None, 285867.0, 27318381.65, None, None, None], ['2020-02-28', 90.05, 94.75, 89.65, 94.75, None, 468539.0, 43691138.55, None, None, None], ['2020-02-27', 97.95, 98.3, 93.75, 95.05, None, 253380.0, 24293170.5, None, None, None], ['2020-02-26', 98.5, 100.8, 96.35, 100.2, None, 371150.0, 36784605.3, None, None, None], ['2020-02-25', 105.6, 106.4, 100.6, 101.2, None, 250020.0, 25613306.6, None, None, None], ['2020-02-24', 104.0, 105.5, 102.2, 104.7, None, 211543.0, 22050204.4, None, None, None], ['2020-02-21', 110.1, 110.2, 107.7, 108.2, None, 119055.0, 12948891.0, None, None, None], ['2020-02-20', 111.3, 112.8, 109.9, 110.4, None, 139229.0, 15421757.0, None, None, None], ['2020-02-19', 110.3, 112.4, 109.5, 111.2, None, 138008.0, 15341487.0, None, None, None], ['2020-02-18', 107.2, 109.8, 107.0, 109.6, None, 111209.0, 12136682.0, None, None, None], ['2020-02-17', 108.9, 109.1, 107.6, 108.8, None, 71884.0, 7784747.5, None, None, None], ['2020-02-14', 109.2, 110.1, 108.2, 108.9, None, 127710.0, 13932329.0, None, None, None], ['2020-02-13', 110.0, 111.0, 107.6, 109.5, None, 175311.0, 19094774.0, None, None, None], ['2020-02-12', 112.4, 112.4, 109.7, 110.0, None, 153713.0, 16973868.0, None, None, None], ['2020-02-11', 110.1, 113.6, 109.3, 112.2, None, 266600.0, 29766104.0, None, None, None], ['2020-02-10', 114.0, 121.1, 107.0, 109.4, None, 449853.0, 50064696.0, None, None, None], ['2020-02-07', 116.4, 117.4, 114.1, 114.9, None, 158446.0, 18250740.0, None, None, None], ['2020-02-06', 117.0, 117.2, 114.7, 116.4, None, 98097.0, 11377620.0, None, None, None], ['2020-02-05', 116.4, 117.0, 115.8, 116.1, None, 141363.0, 16440834.0, None, None, None], ['2020-02-04', 112.1, 115.7, 111.7, 115.0, None, 214584.0, 24603160.0, None, None, None], ['2020-02-03', 110.0, 112.0, 109.3, 111.4, None, 231387.0, 25691706.0, None, None, None], ['2020-01-31', 112.5, 113.7, 110.1, 110.5, None, 257830.0, 28708798.0, None, None, None], ['2020-01-30', 116.8, 118.0, 112.8, 113.3, None, 198663.0, 22749126.0, None, None, None], ['2020-01-29', 118.3, 118.8, 117.4, 117.7, None, 88563.0, 10438738.0, None, None, None], ['2020-01-28', 118.8, 119.6, 115.2, 118.1, None, 134333.0, 15754191.0, None, None, None], ['2020-01-27', 119.6, 119.7, 117.9, 118.0, None, 110778.0, 13126700.0, None, None, None], ['2020-01-24', 119.5, 120.7, 118.6, 120.2, None, 102713.0, 12323204.0, None, None, None], ['2020-01-23', 120.2, 120.9, 118.8, 118.8, None, 92012.0, 11007938.0, None, None, None], ['2020-01-22', 120.2, 121.1, 119.2, 119.7, None, 74016.0, 8885031.0, None, None, None], ['2020-01-21', 121.4, 121.4, 118.9, 119.6, None, 98600.0, 11805317.0, None, None, None], ['2020-01-20', 121.2, 122.1, 120.7, 121.4, None, 63664.0, 7721389.5, None, None, None], ['2020-01-17', 119.9, 121.1, 119.3, 120.8, None, 63663.0, 7671528.0, None, None, None], ['2020-01-16', 120.4, 120.8, 119.0, 119.2, None, 66065.0, 7893356.5, None, None, None], ['2020-01-15', 119.5, 120.7, 119.1, 120.0, None, 111393.0, 13370345.0, None, None, None], ['2020-01-14', 117.6, 119.5, 116.7, 119.3, None, 105126.0, 12492392.0, None, None, None], ['2020-01-13', 118.0, 118.9, 117.0, 117.2, None, 84067.0, 9891618.0, None, None, None], ['2020-01-10', 119.6, 120.4, 117.3, 117.5, None, 102423.0, 12098654.0, None, None, None], ['2020-01-09', 118.4, 119.8, 117.5, 119.2, None, 134426.0, 15973124.0, None, None, None], ['2020-01-08', 114.2, 116.8, 114.0, 116.4, None, 82884.0, 9602366.0, None, None, None], ['2020-01-07', 114.4, 116.9, 114.3, 114.9, None, 98974.0, 11431904.0, None, None, None], ['2020-01-06', 112.0, 114.3, 111.7, 114.0, None, 95697.0, 10844169.0, None, None, None], ['2020-01-03', 112.8, 113.4, 112.0, 113.4, None, 82304.0, 9289987.0, None, None, None], ['2020-01-02', 114.0, 114.9, 112.7, 113.8, None, 143464.0, 16291666.0, None, None, None], ['2019-12-30', 116.4, 116.5, 113.7, 113.7, None, 60915.0, 6979033.0, None, None, None], ['2019-12-27', 116.0, 116.3, 115.0, 116.3, None, 62154.0, 7208475.5, None, None, None], ['2019-12-23', 115.0, 116.2, 114.6, 114.9, None, 66229.0, 7626266.1, None, None, None], ['2019-12-20', 115.9, 116.7, 114.4, 114.6, None, 185866.0, 21368077.0, None, None, None], ['2019-12-19', 115.8, 116.2, 114.9, 115.6, None, 124269.0, 14364060.2, None, None, None], ['2019-12-18', 115.4, 115.9, 114.3, 115.5, None, 124036.0, 14308979.8, None, None, None], ['2019-12-17', 113.4, 115.6, 113.1, 115.6, None, 198741.0, 22797197.4, None, None, None], ['2019-12-16', 111.9, 113.5, 111.1, 112.9, None, 123873.0, 13933520.7, None, None, None], ['2019-12-13', 113.0, 113.0, 110.5, 111.3, None, 115681.0, 12875607.7, None, None, None], ['2019-12-12', 113.0, 113.9, 111.4, 111.9, None, 169064.0, 18990658.0, None, None, None], ['2019-12-11', 113.8, 113.8, 110.9, 112.0, None, 149438.0, 16744868.0, None, None, None], ['2019-12-10', 114.0, 115.3, 110.0, 113.0, None, 219116.0, 24654700.0, None, None, None], ['2019-12-09', 105.1, 114.7, 105.1, 114.3, None, 405833.0, 45488588.0, None, None, None], ['2019-12-06', 106.6, 106.6, 99.6, 103.1, None, 561633.0, 57520904.0, None, None, None], ['2019-12-05', 110.1, 110.3, 109.2, 110.1, None, 69911.0, 7687537.5, None, None, None], ['2019-12-04', 108.6, 110.4, 108.5, 109.6, None, 91446.0, 10015437.0, None, None, None], ['2019-12-03', 107.7, 110.1, 107.3, 108.9, None, 130237.0, 14162319.0, None, None, None], ['2019-12-02', 111.0, 111.4, 107.2, 107.6, None, 144610.0, 15685797.0, None, None, None], ['2019-11-29', 108.2, 112.7, 108.1, 111.0, None, 168617.0, 18731904.0, None, None, None], ['2019-11-28', 109.1, 109.1, 107.5, 108.1, None, 44677.0, 4827719.0, None, None, None], ['2019-11-27', 109.9, 110.0, 108.0, 108.6, None, 80332.0, 8731068.0, None, None, None], ['2019-11-26', 108.6, 110.0, 107.5, 109.5, None, 280313.0, 30604384.0, None, None, None], ['2019-11-25', 107.4, 109.1, 106.4, 108.1, None, 101435.0, 10965700.0, None, None, None], ['2019-11-22', 106.1, 107.1, 105.9, 106.6, None, 116214.0, 12391521.0, None, None, None], ['2019-11-21', 105.5, 106.9, 104.6, 106.0, None, 135671.0, 14383910.0, None, None, None], ['2019-11-20', 104.5, 107.4, 104.2, 106.0, None, 148853.0, 15777142.0, None, None, None], ['2019-11-19', 104.9, 105.3, 103.9, 104.5, None, 86228.0, 9006823.0, None, None, None], ['2019-11-18', 104.0, 105.5, 103.8, 104.8, None, 100901.0, 10565891.0, None, None, None], ['2019-11-15', 102.0, 104.1, 101.9, 104.0, None, 102061.0, 10555093.0, None, None, None], ['2019-11-14', 102.6, 102.9, 100.4, 101.6, None, 89727.0, 9123501.0, None, None, None], ['2019-11-13', 100.4, 102.3, 100.4, 102.3, None, 106648.0, 10854356.0, None, None, None], ['2019-11-12', 101.1, 102.0, 98.9, 101.0, None, 128193.0, 12877095.0, None, None, None], ['2019-11-11', 102.1, 103.8, 100.6, 100.8, None, 95512.0, 9684446.0, None, None, None], ['2019-11-08', 101.8, 102.8, 100.2, 101.8, None, 127304.0, 12917154.0, None, None, None], ['2019-11-07', 103.7, 104.1, 101.2, 102.2, None, 145112.0, 14855882.0, None, None, None], ['2019-11-06', 100.5, 103.2, 99.4, 103.2, None, 132904.0, 13585029.0, None, None, None], ['2019-11-05', 99.65, 100.7, 98.4, 100.3, None, 138382.0, 13834720.0, None, None, None], ['2019-11-04', 98.95, 100.2, 97.1, 99.35, None, 140821.0, 13931740.0, None, None, None], ['2019-11-01', 98.5, 99.65, 98.15, 98.65, None, 84471.0, 8332533.0, None, None, None], ['2019-10-31', 98.05, 99.15, 97.75, 97.75, None, 105779.0, 10379837.0, None, None, None], ['2019-10-30', 96.45, 98.85, 96.0, 98.05, None, 101101.0, 9910827.0, None, None, None], ['2019-10-29', 95.5, 96.55, 94.45, 96.1, None, 113338.0, 10820482.0, None, None, None], ['2019-10-28', 97.7, 97.95, 95.35, 95.85, None, 113497.0, 10914759.0, None, None, None], ['2019-10-25', 96.1, 97.55, 95.4, 97.0, None, 155040.0, 14968588.0, None, None, None], ['2019-10-24', 94.15, 96.4, 92.8, 96.0, None, 275194.0, 26191594.0, None, None, None], ['2019-10-23', 100.4, 100.8, 89.35, 92.55, None, 605001.0, 56532324.0, None, None, None], ['2019-10-22', 101.7, 102.7, 99.9, 101.5, None, 90905.0, 9234451.0, None, None, None], ['2019-10-21', 103.7, 104.1, 100.7, 101.4, None, 108567.0, 11048451.0, None, None, None], ['2019-10-18', 103.9, 104.7, 103.2, 103.7, None, 73189.0, 7598035.5, None, None, None], ['2019-10-17', 103.2, 104.5, 102.9, 103.8, None, 115138.0, 11944767.0, None, None, None], ['2019-10-16', 104.1, 104.7, 101.4, 103.2, None, 116588.0, 12026270.0, None, None, None], ['2019-10-15', 104.0, 104.8, 102.8, 103.9, None, 79933.0, 8308760.5, None, None, None], ['2019-10-14', 102.4, 103.3, 101.1, 103.2, None, 83291.0, 8556893.0, None, None, None], ['2019-10-11', 103.0, 103.7, 101.1, 102.4, None, 124625.0, 12751459.0, None, None, None], ['2019-10-10', 107.0, 107.0, 101.9, 102.5, None, 204279.0, 21027192.0, None, None, None], ['2019-10-09', 106.3, 107.7, 105.5, 107.0, None, 94098.0, 10050758.0, None, None, None], ['2019-10-08', 109.5, 109.9, 106.3, 106.5, None, 97553.0, 10483011.0, None, None, None], ['2019-10-07', 108.5, 110.3, 107.5, 108.8, None, 97154.0, 10561664.0, None, None, None], ['2019-10-04', 105.0, 109.5, 104.4, 108.2, None, 198283.0, 21355196.0, None, None, None], ['2019-10-02', 104.9, 111.5, 103.7, 105.6, None, 342563.0, 36835516.0, None, None, None], ['2019-10-01', 105.3, 105.9, 103.8, 104.8, None, 132282.0, 13861037.0, None, None, None], ['2019-09-30', 104.2, 105.1, 102.7, 104.6, None, 92395.0, 9628660.0, None, None, None], ['2019-09-27', 103.7, 104.0, 102.5, 103.5, None, 74036.0, 7656140.5, None, None, None], ['2019-09-26', 102.3, 104.3, 101.5, 103.8, None, 78159.0, 8096350.5, None, None, None], ['2019-09-25', 104.0, 104.2, 100.1, 101.5, None, 169893.0, 17234866.0, None, None, None], ['2019-09-24', 103.6, 105.2, 103.6, 105.0, None, 61623.0, 6452339.0, None, None, None], ['2019-09-23', 103.1, 105.1, 102.8, 103.8, None, 69848.0, 7263194.5, None, None, None], ['2019-09-20', 104.9, 105.0, 101.8, 103.3, None, 198709.0, 20505680.0, None, None, None], ['2019-09-19', 102.7, 104.8, 102.1, 104.5, None, 125080.0, 13001448.0, None, None, None], ['2019-09-18', 102.4, 104.0, 102.2, 103.3, None, 117228.0, 12104268.0, None, None, None], ['2019-09-17', 99.7, 102.1, 98.7, 102.0, None, 135793.0, 13767140.0, None, None, None], ['2019-09-16', 99.0, 99.75, 97.85, 99.35, None, 112585.0, 11171601.0, None, None, None], ['2019-09-13', 102.2, 102.3, 98.1, 98.9, None, 130746.0, 12958266.0, None, None, None], ['2019-09-12', 101.9, 102.8, 100.6, 101.9, None, 119437.0, 12145270.0, None, None, None], ['2019-09-11', 100.7, 101.7, 99.0, 101.0, None, 171872.0, 17257904.0, None, None, None], ['2019-09-10', 105.5, 105.5, 99.75, 100.5, None, 271425.0, 27466300.0, None, None, None], ['2019-09-09', 109.1, 109.7, 105.7, 105.7, None, 86187.0, 9187726.0, None, None, None], ['2019-09-06', 106.1, 109.6, 106.0, 108.7, None, 101489.0, 11006270.0, None, None, None], ['2019-09-05', 109.0, 110.9, 106.2, 106.4, None, 91265.0, 9771449.0, None, None, None], ['2019-09-04', 107.4, 109.1, 107.1, 108.3, None, 94641.0, 10247516.0, None, None, None], ['2019-09-03', 107.4, 107.7, 105.9, 107.0, None, 105012.0, 11237644.0, None, None, None], ['2019-09-02', 104.5, 107.5, 104.5, 106.7, None, 91105.0, 9729992.0, None, None, None], ['2019-08-30', 105.7, 105.7, 104.4, 104.9, None, 120743.0, 12667534.0, None, None, None], ['2019-08-29', 107.0, 107.6, 105.7, 105.7, None, 87491.0, 9291293.0, None, None, None], ['2019-08-28', 105.0, 107.0, 104.4, 106.6, None, 110155.0, 11686854.0, None, None, None], ['2019-08-27', 103.0, 105.2, 102.6, 105.1, None, 165727.0, 17367660.0, None, None, None], ['2019-08-26', 102.8, 103.1, 101.4, 103.0, None, 63857.0, 6556853.5, None, None, None], ['2019-08-23', 103.4, 105.0, 102.8, 102.8, None, 97791.0, 10120408.0, None, None, None], ['2019-08-22', 104.6, 106.7, 103.3, 103.3, None, 140365.0, 14598704.0, None, None, None], ['2019-08-21', 101.2, 104.3, 100.9, 103.6, None, 111234.0, 11480594.0, None, None, None], ['2019-08-20', 101.4, 102.9, 100.5, 100.6, None, 111166.0, 11268671.0, None, None, None], ['2019-08-19', 100.3, 101.3, 98.2, 101.2, None, 131618.0, 13223834.0, None, None, None], ['2019-08-16', 98.35, 99.4, 97.15, 99.3, None, 106762.0, 10549874.0, None, None, None], ['2019-08-15', 100.2, 101.0, 96.45, 97.9, None, 133330.0, 13092741.0, None, None, None], ['2019-08-14', 99.55, 103.1, 99.3, 100.8, None, 192752.0, 19524066.0, None, None, None], ['2019-08-13', 99.05, 99.6, 97.55, 98.75, None, 113097.0, 11171934.0, None, None, None], ['2019-08-12', 100.0, 101.6, 98.2, 98.95, None, 111146.0, 11031779.0, None, None, None], ['2019-08-09', 99.2, 104.3, 94.4, 99.05, None, 217386.0, 21511178.0, None, None, None], ['2019-08-08', 95.35, 95.35, 94.2, 95.1, None, 110482.0, 10474803.0, None, None, None], ['2019-08-07', 94.15, 95.05, 93.05, 93.9, None, 119157.0, 11200026.0, None, None, None], ['2019-08-06', 93.65, 95.15, 93.25, 93.25, None, 119714.0, 11218618.0, None, None, None], ['2019-08-05', 96.35, 96.35, 92.75, 94.05, None, 232748.0, 21909462.0, None, None, None], ['2019-08-02', 99.95, 100.8, 97.25, 97.25, None, 124704.0, 12224533.0, None, None, None], ['2019-08-01', 99.6, 100.7, 99.3, 100.5, None, 102399.0, 10267086.0, None, None, None], ['2019-07-31', 99.0, 99.75, 98.35, 99.45, None, 106057.0, 10535986.0, None, None, None], ['2019-07-30', 100.3, 100.4, 98.85, 99.2, None, 117634.0, 11712535.0, None, None, None], ['2019-07-29', 98.95, 100.4, 98.75, 99.85, None, 104305.0, 10408428.0, None, None, None], ['2019-07-26', 96.5, 99.3, 96.15, 99.0, None, 116311.0, 11474417.0, None, None, None], ['2019-07-25', 98.35, 99.5, 96.9, 97.25, None, 84809.0, 8301676.5, None, None, None], ['2019-07-24', 98.45, 98.95, 96.65, 97.5, None, 111280.0, 10851049.0, None, None, None]]\n"
     ]
    }
   ],
   "source": [
    "print(json_data['dataset']['data'])"
   ]
  },
  {
   "cell_type": "code",
   "execution_count": 40,
   "metadata": {},
   "outputs": [],
   "source": [
    "open_list = []"
   ]
  },
  {
   "cell_type": "code",
   "execution_count": 41,
   "metadata": {},
   "outputs": [],
   "source": [
    "for row in json_data['dataset']['data']:\n",
    "    i = row[1]\n",
    "    open_list.append(i)"
   ]
  },
  {
   "cell_type": "code",
   "execution_count": 42,
   "metadata": {},
   "outputs": [
    {
     "name": "stdout",
     "output_type": "stream",
     "text": [
      "[90.5, 88.4, 88.6, 89.55, 88.25, 89.15, 90.65, 90.0, 90.1, 90.45, 89.25, 91.15, 92.0, 92.95, 93.8, 93.1, 89.75, 86.2, 87.0, 88.0, 88.2, 86.25, 90.05, 89.2, 90.35, 90.55, 91.6, 90.55, 88.35, 85.0, 85.65, 87.0, 89.25, 91.65, 92.65, 91.6, 92.3, 91.15, 93.3, 91.05, 88.1, 91.0, 91.1, 88.6, 87.35, 90.95, 92.5, 90.45, 85.45, 82.25, 84.7, 85.5, 91.55, 97.0, 96.35, 94.55, 92.8, 88.9, 87.65, 91.6, 90.0, 92.0, 95.05, 94.4, 94.75, 92.75, 93.4, 94.0, 93.4, 91.9, 94.0, 97.5, 93.1, 90.2, 92.0, 86.35, 83.1, 86.0, 86.5, 92.0, 85.4, 89.0, 81.5, 82.5, 79.2, 74.5, 76.65, 69.15, 74.5, 79.0, 75.0, 77.75, 77.75, 87.6, 88.25, 87.65, 95.0, 101.3, 98.3, 97.1, 96.5, 90.05, 97.95, 98.5, 105.6, 104.0, 110.1, 111.3, 110.3, 107.2, 108.9, 109.2, 110.0, 112.4, 110.1, 114.0, 116.4, 117.0, 116.4, 112.1, 110.0, 112.5, 116.8, 118.3, 118.8, 119.6, 119.5, 120.2, 120.2, 121.4, 121.2, 119.9, 120.4, 119.5, 117.6, 118.0, 119.6, 118.4, 114.2, 114.4, 112.0, 112.8, 114.0, 116.4, 116.0, 115.0, 115.9, 115.8, 115.4, 113.4, 111.9, 113.0, 113.0, 113.8, 114.0, 105.1, 106.6, 110.1, 108.6, 107.7, 111.0, 108.2, 109.1, 109.9, 108.6, 107.4, 106.1, 105.5, 104.5, 104.9, 104.0, 102.0, 102.6, 100.4, 101.1, 102.1, 101.8, 103.7, 100.5, 99.65, 98.95, 98.5, 98.05, 96.45, 95.5, 97.7, 96.1, 94.15, 100.4, 101.7, 103.7, 103.9, 103.2, 104.1, 104.0, 102.4, 103.0, 107.0, 106.3, 109.5, 108.5, 105.0, 104.9, 105.3, 104.2, 103.7, 102.3, 104.0, 103.6, 103.1, 104.9, 102.7, 102.4, 99.7, 99.0, 102.2, 101.9, 100.7, 105.5, 109.1, 106.1, 109.0, 107.4, 107.4, 104.5, 105.7, 107.0, 105.0, 103.0, 102.8, 103.4, 104.6, 101.2, 101.4, 100.3, 98.35, 100.2, 99.55, 99.05, 100.0, 99.2, 95.35, 94.15, 93.65, 96.35, 99.95, 99.6, 99.0, 100.3, 98.95, 96.5, 98.35, 98.45]\n"
     ]
    }
   ],
   "source": [
    "print(open_list)"
   ]
  },
  {
   "cell_type": "code",
   "execution_count": 45,
   "metadata": {},
   "outputs": [
    {
     "name": "stdout",
     "output_type": "stream",
     "text": [
      "121.4\n"
     ]
    }
   ],
   "source": [
    "print(max(open_list)) #highest opening price"
   ]
  },
  {
   "cell_type": "code",
   "execution_count": 46,
   "metadata": {},
   "outputs": [
    {
     "name": "stdout",
     "output_type": "stream",
     "text": [
      "69.15\n"
     ]
    }
   ],
   "source": [
    "print(min(open_list)) #lowest opening price"
   ]
  },
  {
   "cell_type": "code",
   "execution_count": 47,
   "metadata": {},
   "outputs": [],
   "source": [
    "day_change = []\n",
    "for row in json_data['dataset']['data']:\n",
    "    i = row[2]-row[3]\n",
    "    day_change.append(i)"
   ]
  },
  {
   "cell_type": "code",
   "execution_count": 48,
   "metadata": {},
   "outputs": [
    {
     "name": "stdout",
     "output_type": "stream",
     "text": [
      "14.099999999999994\n"
     ]
    }
   ],
   "source": [
    "print(max(day_change)) #highest change in a day from high & low"
   ]
  },
  {
   "cell_type": "code",
   "execution_count": 49,
   "metadata": {},
   "outputs": [
    {
     "name": "stdout",
     "output_type": "stream",
     "text": [
      "[2.6500000000000057, 3.3999999999999915, 1.6999999999999886, 2.200000000000003, 1.9500000000000028, 2.5, 2.75, 5.400000000000006, 2.0500000000000114, 2.5500000000000114, 2.6499999999999915, 1.8999999999999915, 2.3999999999999915, 2.5, 1.1000000000000085, 1.9499999999999886, 5.0, 3.25, 2.1500000000000057, 2.3499999999999943, 2.75, 3.450000000000003, 4.049999999999997, 2.4000000000000057, 2.8500000000000085, 1.7999999999999972, 2.25, 2.450000000000003, 3.299999999999997, 2.1500000000000057, 3.0500000000000114, 2.1000000000000085, 3.0999999999999943, 4.049999999999997, 2.8500000000000085, 2.6499999999999915, 3.1499999999999915, 3.6499999999999915, 4.0, 2.8499999999999943, 4.299999999999997, 4.799999999999997, 3.6499999999999915, 4.6000000000000085, 3.049999999999997, 3.1500000000000057, 2.0, 3.0, 5.049999999999997, 4.199999999999989, 4.1499999999999915, 4.1000000000000085, 5.549999999999997, 6.950000000000003, 2.1999999999999886, 3.0, 3.25, 4.349999999999994, 2.1499999999999915, 2.1999999999999886, 3.1500000000000057, 3.049999999999997, 3.25, 2.25, 2.799999999999997, 3.0500000000000114, 2.450000000000003, 2.75, 2.200000000000003, 2.049999999999997, 4.449999999999989, 4.650000000000006, 3.3500000000000085, 2.450000000000003, 3.6499999999999915, 3.4000000000000057, 2.950000000000003, 7.650000000000006, 1.9000000000000057, 4.5, 5.800000000000011, 7.349999999999994, 9.549999999999997, 9.800000000000011, 2.8500000000000085, 4.1499999999999915, 6.6499999999999915, 7.0, 5.700000000000003, 6.599999999999994, 5.450000000000003, 7.200000000000003, 5.8500000000000085, 4.6000000000000085, 4.299999999999997, 7.050000000000011, 3.1999999999999886, 6.25, 2.950000000000003, 4.3500000000000085, 4.75, 5.099999999999994, 4.549999999999997, 4.450000000000003, 5.800000000000011, 3.299999999999997, 2.5, 2.8999999999999915, 2.9000000000000057, 2.799999999999997, 1.5, 1.8999999999999915, 3.4000000000000057, 2.700000000000003, 4.299999999999997, 14.099999999999994, 3.3000000000000114, 2.5, 1.2000000000000028, 4.0, 2.700000000000003, 3.6000000000000085, 5.200000000000003, 1.3999999999999915, 4.3999999999999915, 1.7999999999999972, 2.1000000000000085, 2.1000000000000085, 1.8999999999999915, 2.5, 1.3999999999999915, 1.7999999999999972, 1.7999999999999972, 1.6000000000000085, 2.799999999999997, 1.9000000000000057, 3.1000000000000085, 2.299999999999997, 2.799999999999997, 2.6000000000000085, 2.5999999999999943, 1.4000000000000057, 2.200000000000003, 2.799999999999997, 1.2999999999999972, 1.6000000000000085, 2.299999999999997, 1.2999999999999972, 1.6000000000000085, 2.5, 2.4000000000000057, 2.5, 2.5, 2.8999999999999915, 5.299999999999997, 9.600000000000009, 7.0, 1.0999999999999943, 1.9000000000000057, 2.799999999999997, 4.200000000000003, 4.6000000000000085, 1.5999999999999943, 2.0, 2.5, 2.6999999999999886, 1.1999999999999886, 2.3000000000000114, 3.200000000000003, 1.3999999999999915, 1.7000000000000028, 2.1999999999999886, 2.5, 1.8999999999999915, 3.0999999999999943, 3.200000000000003, 2.5999999999999943, 2.8999999999999915, 3.799999999999997, 2.299999999999997, 3.1000000000000085, 1.5, 1.4000000000000057, 2.8499999999999943, 2.0999999999999943, 2.6000000000000085, 2.1499999999999915, 3.6000000000000085, 11.450000000000003, 2.799999999999997, 3.3999999999999915, 1.5, 1.5999999999999943, 3.299999999999997, 2.0, 2.200000000000003, 2.6000000000000085, 5.099999999999994, 2.200000000000003, 3.6000000000000085, 2.799999999999997, 5.099999999999994, 7.799999999999997, 2.1000000000000085, 2.3999999999999915, 1.5, 2.799999999999997, 4.1000000000000085, 1.6000000000000085, 2.299999999999997, 3.200000000000003, 2.700000000000003, 1.7999999999999972, 3.3999999999999915, 1.9000000000000057, 4.200000000000003, 2.200000000000003, 2.700000000000003, 5.75, 4.0, 3.5999999999999943, 4.700000000000003, 2.0, 1.7999999999999972, 3.0, 1.2999999999999972, 1.8999999999999915, 2.5999999999999943, 2.6000000000000085, 1.6999999999999886, 2.200000000000003, 3.4000000000000057, 3.3999999999999915, 2.4000000000000057, 3.0999999999999943, 2.25, 4.549999999999997, 3.799999999999997, 2.049999999999997, 3.3999999999999915, 9.899999999999991, 1.1499999999999915, 2.0, 1.9000000000000057, 3.5999999999999943, 3.549999999999997, 1.4000000000000057, 1.4000000000000057, 1.5500000000000114, 1.6500000000000057, 3.1499999999999915, 2.5999999999999943, 2.299999999999997]\n"
     ]
    }
   ],
   "source": [
    "print(day_change)"
   ]
  },
  {
   "cell_type": "code",
   "execution_count": 57,
   "metadata": {},
   "outputs": [],
   "source": [
    "#What was the largest change between any two days (based on Closing Price)?\n",
    "#What was the average daily trading volume during this year?\n",
    "#(Optional) What was the median trading volume during this year. (Note: you may need to implement your own function for calculating the median.)"
   ]
  },
  {
   "cell_type": "code",
   "execution_count": 58,
   "metadata": {},
   "outputs": [],
   "source": [
    "twodays_diff = []\n",
    "for row in json_data['dataset']['data']:\n",
    "    i = row[3]\n",
    "    twodays_diff.append(i)"
   ]
  },
  {
   "cell_type": "code",
   "execution_count": 59,
   "metadata": {},
   "outputs": [
    {
     "name": "stdout",
     "output_type": "stream",
     "text": [
      "[87.85, 88.15, 87.4, 87.75, 87.55, 88.0, 87.9, 86.3, 88.1, 88.6, 88.9, 89.45, 90.15, 91.15, 92.8, 91.9, 88.8, 86.0, 85.0, 86.5, 86.65, 84.8, 86.2, 88.6, 87.85, 90.0, 89.6, 89.7, 87.45, 84.75, 84.85, 85.55, 87.0, 89.2, 89.8, 90.65, 89.65, 89.65, 89.5, 90.25, 87.4, 86.4, 89.7, 88.1, 85.45, 87.8, 91.3, 89.8, 84.9, 80.65, 81.15, 83.8, 86.0, 90.75, 95.15, 94.25, 91.45, 88.25, 85.95, 89.9, 87.85, 89.15, 92.1, 92.35, 92.7, 91.6, 91.5, 91.9, 91.85, 90.7, 90.15, 93.35, 92.05, 89.8, 88.9, 86.25, 82.5, 79.5, 85.0, 88.15, 83.1, 83.5, 81.5, 80.6, 76.6, 72.9, 75.7, 67.7, 69.55, 73.5, 71.45, 76.85, 75.8, 83.85, 86.0, 85.1, 91.9, 96.35, 97.55, 95.55, 93.55, 89.65, 93.75, 96.35, 100.6, 102.2, 107.7, 109.9, 109.5, 107.0, 107.6, 108.2, 107.6, 109.7, 109.3, 107.0, 114.1, 114.7, 115.8, 111.7, 109.3, 110.1, 112.8, 117.4, 115.2, 117.9, 118.6, 118.8, 119.2, 118.9, 120.7, 119.3, 119.0, 119.1, 116.7, 117.0, 117.3, 117.5, 114.0, 114.3, 111.7, 112.0, 112.7, 113.7, 115.0, 114.6, 114.4, 114.9, 114.3, 113.1, 111.1, 110.5, 111.4, 110.9, 110.0, 105.1, 99.6, 109.2, 108.5, 107.3, 107.2, 108.1, 107.5, 108.0, 107.5, 106.4, 105.9, 104.6, 104.2, 103.9, 103.8, 101.9, 100.4, 100.4, 98.9, 100.6, 100.2, 101.2, 99.4, 98.4, 97.1, 98.15, 97.75, 96.0, 94.45, 95.35, 95.4, 92.8, 89.35, 99.9, 100.7, 103.2, 102.9, 101.4, 102.8, 101.1, 101.1, 101.9, 105.5, 106.3, 107.5, 104.4, 103.7, 103.8, 102.7, 102.5, 101.5, 100.1, 103.6, 102.8, 101.8, 102.1, 102.2, 98.7, 97.85, 98.1, 100.6, 99.0, 99.75, 105.7, 106.0, 106.2, 107.1, 105.9, 104.5, 104.4, 105.7, 104.4, 102.6, 101.4, 102.8, 103.3, 100.9, 100.5, 98.2, 97.15, 96.45, 99.3, 97.55, 98.2, 94.4, 94.2, 93.05, 93.25, 92.75, 97.25, 99.3, 98.35, 98.85, 98.75, 96.15, 96.9, 96.65]\n"
     ]
    }
   ],
   "source": [
    "print(twodays_diff)"
   ]
  },
  {
   "cell_type": "code",
   "execution_count": 64,
   "metadata": {},
   "outputs": [],
   "source": [
    "diff_value = []\n",
    "for p in range(len(twodays_diff)-2):\n",
    "    subtract = twodays_diff[p+1]-twodays_diff[p]\n",
    "    diff_value.append(subtract)"
   ]
  },
  {
   "cell_type": "code",
   "execution_count": 65,
   "metadata": {},
   "outputs": [
    {
     "name": "stdout",
     "output_type": "stream",
     "text": [
      "[0.30000000000001137, -0.75, 0.3499999999999943, -0.20000000000000284, 0.45000000000000284, -0.09999999999999432, -1.6000000000000085, 1.7999999999999972, 0.5, 0.30000000000001137, 0.5499999999999972, 0.7000000000000028, 1.0, 1.6499999999999915, -0.8999999999999915, -3.1000000000000085, -2.799999999999997, -1.0, 1.5, 0.15000000000000568, -1.8500000000000085, 1.4000000000000057, 2.3999999999999915, -0.75, 2.1500000000000057, -0.4000000000000057, 0.10000000000000853, -2.25, -2.700000000000003, 0.09999999999999432, 0.7000000000000028, 1.4500000000000028, 2.200000000000003, 0.5999999999999943, 0.8500000000000085, -1.0, 0.0, -0.15000000000000568, 0.75, -2.8499999999999943, -1.0, 3.299999999999997, -1.6000000000000085, -2.6499999999999915, 2.3499999999999943, 3.5, -1.5, -4.8999999999999915, -4.25, 0.5, 2.6499999999999915, 2.200000000000003, 4.75, 4.400000000000006, -0.9000000000000057, -2.799999999999997, -3.200000000000003, -2.299999999999997, 3.950000000000003, -2.0500000000000114, 1.3000000000000114, 2.9499999999999886, 0.25, 0.3500000000000085, -1.1000000000000085, -0.09999999999999432, 0.4000000000000057, -0.05000000000001137, -1.1499999999999915, -0.5499999999999972, 3.1999999999999886, -1.2999999999999972, -2.25, -0.8999999999999915, -2.6500000000000057, -3.75, -3.0, 5.5, 3.1500000000000057, -5.050000000000011, 0.4000000000000057, -2.0, -0.9000000000000057, -4.0, -3.6999999999999886, 2.799999999999997, -8.0, 1.8499999999999943, 3.950000000000003, -2.049999999999997, 5.3999999999999915, -1.0499999999999972, 8.049999999999997, 2.1500000000000057, -0.9000000000000057, 6.800000000000011, 4.449999999999989, 1.2000000000000028, -2.0, -2.0, -3.8999999999999915, 4.099999999999994, 2.5999999999999943, 4.25, 1.6000000000000085, 5.5, 2.200000000000003, -0.4000000000000057, -2.5, 0.5999999999999943, 0.6000000000000085, -0.6000000000000085, 2.1000000000000085, -0.4000000000000057, -2.299999999999997, 7.099999999999994, 0.6000000000000085, 1.0999999999999943, -4.099999999999994, -2.4000000000000057, 0.7999999999999972, 2.700000000000003, 4.6000000000000085, -2.200000000000003, 2.700000000000003, 0.6999999999999886, 0.20000000000000284, 0.4000000000000057, -0.29999999999999716, 1.7999999999999972, -1.4000000000000057, -0.29999999999999716, 0.09999999999999432, -2.3999999999999915, 0.29999999999999716, 0.29999999999999716, 0.20000000000000284, -3.5, 0.29999999999999716, -2.5999999999999943, 0.29999999999999716, 0.7000000000000028, 1.0, 1.2999999999999972, -0.4000000000000057, -0.19999999999998863, 0.5, -0.6000000000000085, -1.2000000000000028, -2.0, -0.5999999999999943, 0.9000000000000057, -0.5, -0.9000000000000057, -4.900000000000006, -5.5, 9.600000000000009, -0.7000000000000028, -1.2000000000000028, -0.09999999999999432, 0.8999999999999915, -0.5999999999999943, 0.5, -0.5, -1.0999999999999943, -0.5, -1.3000000000000114, -0.3999999999999915, -0.29999999999999716, -0.10000000000000853, -1.8999999999999915, -1.5, 0.0, -1.5, 1.6999999999999886, -0.3999999999999915, 1.0, -1.7999999999999972, -1.0, -1.3000000000000114, 1.0500000000000114, -0.4000000000000057, -1.75, -1.5499999999999972, 0.8999999999999915, 0.05000000000001137, -2.6000000000000085, -3.450000000000003, 10.550000000000011, 0.7999999999999972, 2.5, -0.29999999999999716, -1.5, 1.3999999999999915, -1.7000000000000028, 0.0, 0.8000000000000114, 3.5999999999999943, 0.7999999999999972, 1.2000000000000028, -3.0999999999999943, -0.7000000000000028, 0.09999999999999432, -1.0999999999999943, -0.20000000000000284, -1.0, -1.4000000000000057, 3.5, -0.7999999999999972, -1.0, 0.29999999999999716, 0.10000000000000853, -3.5, -0.8500000000000085, 0.25, 2.5, -1.5999999999999943, 0.75, 5.950000000000003, 0.29999999999999716, 0.20000000000000284, 0.8999999999999915, -1.1999999999999886, -1.4000000000000057, -0.09999999999999432, 1.2999999999999972, -1.2999999999999972, -1.8000000000000114, -1.1999999999999886, 1.3999999999999915, 0.5, -2.3999999999999915, -0.4000000000000057, -2.299999999999997, -1.0499999999999972, -0.7000000000000028, 2.8499999999999943, -1.75, 0.6500000000000057, -3.799999999999997, -0.20000000000000284, -1.1500000000000057, 0.20000000000000284, -0.5, 4.5, 2.049999999999997, -0.9500000000000028, 0.5, -0.09999999999999432, -2.5999999999999943, 0.75]\n"
     ]
    }
   ],
   "source": [
    "print(diff_value)"
   ]
  },
  {
   "cell_type": "code",
   "execution_count": 66,
   "metadata": {},
   "outputs": [
    {
     "name": "stdout",
     "output_type": "stream",
     "text": [
      "10.550000000000011\n"
     ]
    }
   ],
   "source": [
    "print(max(diff_value)) #argest change between any two days (based on Closing Price)"
   ]
  },
  {
   "cell_type": "code",
   "execution_count": 67,
   "metadata": {},
   "outputs": [
    {
     "name": "stdout",
     "output_type": "stream",
     "text": [
      "[177031.0, 146866.0, 101234.0, 195028.0, 227635.0, 163078.0, 197755.0, 258220.0, 183507.0, 87454.0, 93540.0, 181776.0, 153582.0, 153153.0, 98508.0, 114471.0, 365676.0, 106604.0, 138372.0, 76589.0, 123809.0, 118166.0, 115847.0, 112453.0, 116991.0, 174766.0, 98019.0, 149331.0, 206243.0, 181008.0, 137604.0, 127406.0, 192426.0, 209173.0, 172403.0, 185077.0, 238456.0, 144255.0, 165446.0, 238162.0, 228651.0, 292506.0, 295589.0, 101335.0, 170878.0, 103051.0, 169820.0, 215504.0, 202085.0, 219726.0, 227178.0, 229089.0, 332344.0, 202683.0, 134071.0, 210096.0, 129479.0, 131163.0, 168947.0, 137448.0, 143888.0, 163949.0, 109266.0, 111240.0, 123862.0, 126830.0, 115152.0, 124634.0, 185554.0, 162831.0, 204001.0, 147594.0, 161578.0, 152911.0, 218796.0, 165074.0, 184124.0, 300359.0, 192187.0, 311491.0, 167955.0, 231618.0, 274322.0, 284087.0, 256310.0, 187013.0, 446534.0, 272648.0, 341817.0, 265313.0, 422533.0, 457906.0, 428846.0, 250339.0, 324702.0, 392049.0, 211996.0, 230406.0, 251085.0, 435677.0, 285867.0, 468539.0, 253380.0, 371150.0, 250020.0, 211543.0, 119055.0, 139229.0, 138008.0, 111209.0, 71884.0, 127710.0, 175311.0, 153713.0, 266600.0, 449853.0, 158446.0, 98097.0, 141363.0, 214584.0, 231387.0, 257830.0, 198663.0, 88563.0, 134333.0, 110778.0, 102713.0, 92012.0, 74016.0, 98600.0, 63664.0, 63663.0, 66065.0, 111393.0, 105126.0, 84067.0, 102423.0, 134426.0, 82884.0, 98974.0, 95697.0, 82304.0, 143464.0, 60915.0, 62154.0, 66229.0, 185866.0, 124269.0, 124036.0, 198741.0, 123873.0, 115681.0, 169064.0, 149438.0, 219116.0, 405833.0, 561633.0, 69911.0, 91446.0, 130237.0, 144610.0, 168617.0, 44677.0, 80332.0, 280313.0, 101435.0, 116214.0, 135671.0, 148853.0, 86228.0, 100901.0, 102061.0, 89727.0, 106648.0, 128193.0, 95512.0, 127304.0, 145112.0, 132904.0, 138382.0, 140821.0, 84471.0, 105779.0, 101101.0, 113338.0, 113497.0, 155040.0, 275194.0, 605001.0, 90905.0, 108567.0, 73189.0, 115138.0, 116588.0, 79933.0, 83291.0, 124625.0, 204279.0, 94098.0, 97553.0, 97154.0, 198283.0, 342563.0, 132282.0, 92395.0, 74036.0, 78159.0, 169893.0, 61623.0, 69848.0, 198709.0, 125080.0, 117228.0, 135793.0, 112585.0, 130746.0, 119437.0, 171872.0, 271425.0, 86187.0, 101489.0, 91265.0, 94641.0, 105012.0, 91105.0, 120743.0, 87491.0, 110155.0, 165727.0, 63857.0, 97791.0, 140365.0, 111234.0, 111166.0, 131618.0, 106762.0, 133330.0, 192752.0, 113097.0, 111146.0, 217386.0, 110482.0, 119157.0, 119714.0, 232748.0, 124704.0, 102399.0, 106057.0, 117634.0, 104305.0, 116311.0, 84809.0, 111280.0]\n"
     ]
    }
   ],
   "source": [
    "trade_vol = []\n",
    "for row in json_data['dataset']['data']:\n",
    "    i = row[6]\n",
    "    trade_vol.append(i)\n",
    "\n",
    "print(trade_vol)"
   ]
  },
  {
   "cell_type": "code",
   "execution_count": 68,
   "metadata": {},
   "outputs": [],
   "source": [
    "avg_value = sum(trade_vol)/len(trade_vol)"
   ]
  },
  {
   "cell_type": "code",
   "execution_count": 71,
   "metadata": {},
   "outputs": [
    {
     "name": "stdout",
     "output_type": "stream",
     "text": [
      "164598.49802371542\n"
     ]
    }
   ],
   "source": [
    "print(avg_value) #average daily trading volume in the year?"
   ]
  },
  {
   "cell_type": "code",
   "execution_count": 74,
   "metadata": {},
   "outputs": [],
   "source": [
    "trade_vol.sort()"
   ]
  },
  {
   "cell_type": "code",
   "execution_count": 75,
   "metadata": {},
   "outputs": [
    {
     "name": "stdout",
     "output_type": "stream",
     "text": [
      "[44677.0, 60915.0, 61623.0, 62154.0, 63663.0, 63664.0, 63857.0, 66065.0, 66229.0, 69848.0, 69911.0, 71884.0, 73189.0, 74016.0, 74036.0, 76589.0, 78159.0, 79933.0, 80332.0, 82304.0, 82884.0, 83291.0, 84067.0, 84471.0, 84809.0, 86187.0, 86228.0, 87454.0, 87491.0, 88563.0, 89727.0, 90905.0, 91105.0, 91265.0, 91446.0, 92012.0, 92395.0, 93540.0, 94098.0, 94641.0, 95512.0, 95697.0, 97154.0, 97553.0, 97791.0, 98019.0, 98097.0, 98508.0, 98600.0, 98974.0, 100901.0, 101101.0, 101234.0, 101335.0, 101435.0, 101489.0, 102061.0, 102399.0, 102423.0, 102713.0, 103051.0, 104305.0, 105012.0, 105126.0, 105779.0, 106057.0, 106604.0, 106648.0, 106762.0, 108567.0, 109266.0, 110155.0, 110482.0, 110778.0, 111146.0, 111166.0, 111209.0, 111234.0, 111240.0, 111280.0, 111393.0, 112453.0, 112585.0, 113097.0, 113338.0, 113497.0, 114471.0, 115138.0, 115152.0, 115681.0, 115847.0, 116214.0, 116311.0, 116588.0, 116991.0, 117228.0, 117634.0, 118166.0, 119055.0, 119157.0, 119437.0, 119714.0, 120743.0, 123809.0, 123862.0, 123873.0, 124036.0, 124269.0, 124625.0, 124634.0, 124704.0, 125080.0, 126830.0, 127304.0, 127406.0, 127710.0, 128193.0, 129479.0, 130237.0, 130746.0, 131163.0, 131618.0, 132282.0, 132904.0, 133330.0, 134071.0, 134333.0, 134426.0, 135671.0, 135793.0, 137448.0, 137604.0, 138008.0, 138372.0, 138382.0, 139229.0, 140365.0, 140821.0, 141363.0, 143464.0, 143888.0, 144255.0, 144610.0, 145112.0, 146866.0, 147594.0, 148853.0, 149331.0, 149438.0, 152911.0, 153153.0, 153582.0, 153713.0, 155040.0, 158446.0, 161578.0, 162831.0, 163078.0, 163949.0, 165074.0, 165446.0, 165727.0, 167955.0, 168617.0, 168947.0, 169064.0, 169820.0, 169893.0, 170878.0, 171872.0, 172403.0, 174766.0, 175311.0, 177031.0, 181008.0, 181776.0, 183507.0, 184124.0, 185077.0, 185554.0, 185866.0, 187013.0, 192187.0, 192426.0, 192752.0, 195028.0, 197755.0, 198283.0, 198663.0, 198709.0, 198741.0, 202085.0, 202683.0, 204001.0, 204279.0, 206243.0, 209173.0, 210096.0, 211543.0, 211996.0, 214584.0, 215504.0, 217386.0, 218796.0, 219116.0, 219726.0, 227178.0, 227635.0, 228651.0, 229089.0, 230406.0, 231387.0, 231618.0, 232748.0, 238162.0, 238456.0, 250020.0, 250339.0, 251085.0, 253380.0, 256310.0, 257830.0, 258220.0, 265313.0, 266600.0, 271425.0, 272648.0, 274322.0, 275194.0, 280313.0, 284087.0, 285867.0, 292506.0, 295589.0, 300359.0, 311491.0, 324702.0, 332344.0, 341817.0, 342563.0, 365676.0, 371150.0, 392049.0, 405833.0, 422533.0, 428846.0, 435677.0, 446534.0, 449853.0, 457906.0, 468539.0, 561633.0, 605001.0]\n"
     ]
    }
   ],
   "source": [
    "print(trade_vol)"
   ]
  },
  {
   "cell_type": "code",
   "execution_count": 77,
   "metadata": {},
   "outputs": [
    {
     "name": "stdout",
     "output_type": "stream",
     "text": [
      "134333.0\n"
     ]
    }
   ],
   "source": [
    "if len(trade_vol)==0:\n",
    "    print(trade_vol[len(trade_vol)/2-1], trade_vol[len(trade_vol)/2])\n",
    "else:\n",
    "    print(trade_vol[int(len(trade_vol)/2)])"
   ]
  },
  {
   "cell_type": "code",
   "execution_count": 78,
   "metadata": {},
   "outputs": [
    {
     "name": "stdout",
     "output_type": "stream",
     "text": [
      "{\"dataset\":{\"id\":10095370,\"dataset_code\":\"AFX_X\",\"database_code\":\"FSE\",\"name\":\"Carl Zeiss Meditec (AFX_X)\",\"description\":\"Stock Prices for Carl Zeiss Meditec (2020-07-10) from the Frankfurt Stock Exchange.\\u003cbr\\u003e\\u003cbr\\u003eTrading System: Xetra\\u003cbr\\u003e\\u003cbr\\u003eISIN: DE0005313704\",\"refreshed_at\":\"2020-07-24T22:16:22.029Z\",\"newest_available_date\":\"2020-07-24\",\"oldest_available_date\":\"2000-06-07\",\"column_names\":[\"Date\",\"Open\",\"High\",\"Low\",\"Close\",\"Change\",\"Traded Volume\",\"Turnover\",\"Last Price of the Day\",\"Daily Traded Units\",\"Daily Turnover\"],\"frequency\":\"daily\",\"type\":\"Time Series\",\"premium\":false,\"limit\":null,\"transform\":null,\"column_index\":null,\"start_date\":\"2019-07-24\",\"end_date\":\"2020-07-24\",\"data\":[[\"2020-07-24\",90.5,90.5,87.85,87.9,null,177031.0,15683394.95,null,null,null],[\"2020-07-23\",88.4,91.55,88.15,91.55,null,146866.0,13280553.85,null,null,null],[\"2020-07-22\",88.6,89.1,87.4,88.75,null,101234.0,8954258.2,null,null,null],[\"2020-07-21\",89.55,89.95,87.75,88.5,null,195028.0,17331900.8,null,null,null],[\"2020-07-20\",88.25,89.5,87.55,88.95,null,227635.0,20134893.65,null,null,null],[\"2020-07-17\",89.15,90.5,88.0,88.4,null,163078.0,14464839.25,null,null,null],[\"2020-07-16\",90.65,90.65,87.9,88.95,null,197755.0,17652520.05,null,null,null],[\"2020-07-15\",90.0,91.7,86.3,91.7,null,258220.0,23077220.7,null,null,null],[\"2020-07-14\",90.1,90.15,88.1,89.2,null,183507.0,16350975.75,null,null,null],[\"2020-07-13\",90.45,91.15,88.6,91.05,null,87454.0,7915927.0,null,null,null],[\"2020-07-10\",89.25,91.55,88.9,89.9,null,93540.0,8453243.25,null,null,null],[\"2020-07-09\",91.15,91.35,89.45,89.55,null,181776.0,16405326.65,null,null,null],[\"2020-07-08\",92.0,92.55,90.15,90.3,null,153582.0,13970079.05,null,null,null],[\"2020-07-07\",92.95,93.65,91.15,92.5,null,153153.0,14109118.8,null,null,null],[\"2020-07-06\",93.8,93.9,92.8,93.8,null,98508.0,9199714.85,null,null,null],[\"2020-07-03\",93.1,93.85,91.9,92.35,null,114471.0,10617857.55,null,null,null],[\"2020-07-02\",89.75,93.8,88.8,92.85,null,365676.0,33662061.9,null,null,null],[\"2020-07-01\",86.2,89.25,86.0,89.25,null,106604.0,9438618.8,null,null,null],[\"2020-06-30\",87.0,87.15,85.0,86.8,null,138372.0,11944211.15,null,null,null],[\"2020-06-29\",88.0,88.85,86.5,87.05,null,76589.0,6688133.9,null,null,null],[\"2020-06-26\",88.2,89.4,86.65,88.05,null,123809.0,10922723.5,null,null,null],[\"2020-06-25\",86.25,88.25,84.8,87.8,null,118166.0,10302946.05,null,null,null],[\"2020-06-24\",90.05,90.25,86.2,86.2,null,115847.0,10143798.5,null,null,null],[\"2020-06-23\",89.2,91.0,88.6,89.95,null,112453.0,10108636.8,null,null,null],[\"2020-06-22\",90.35,90.7,87.85,88.55,null,116991.0,10394476.9,null,null,null],[\"2020-06-19\",90.55,91.8,90.0,91.25,null,174766.0,15936379.65,null,null,null],[\"2020-06-18\",91.6,91.85,89.6,90.05,null,98019.0,8859710.65,null,null,null],[\"2020-06-17\",90.55,92.15,89.7,91.45,null,149331.0,13655800.2,null,null,null],[\"2020-06-16\",88.35,90.75,87.45,90.65,null,206243.0,18478591.35,null,null,null],[\"2020-06-15\",85.0,86.9,84.75,86.35,null,181008.0,15502164.95,null,null,null],[\"2020-06-12\",85.65,87.9,84.85,86.4,null,137604.0,11931180.75,null,null,null],[\"2020-06-11\",87.0,87.65,85.55,86.3,null,127406.0,11026683.1,null,null,null],[\"2020-06-10\",89.25,90.1,87.0,87.8,null,192426.0,16965135.2,null,null,null],[\"2020-06-09\",91.65,93.25,89.2,89.35,null,209173.0,18983014.7,null,null,null],[\"2020-06-08\",92.65,92.65,89.8,91.7,null,172403.0,15698539.85,null,null,null],[\"2020-06-05\",91.6,93.3,90.65,93.15,null,185077.0,17116028.75,null,null,null],[\"2020-06-04\",92.3,92.8,89.65,91.4,null,238456.0,21679333.75,null,null,null],[\"2020-06-03\",91.15,93.3,89.65,92.9,null,144255.0,13282471.95,null,null,null],[\"2020-06-02\",93.3,93.5,89.5,91.0,null,165446.0,15036505.55,null,null,null],[\"2020-05-29\",91.05,93.1,90.25,92.1,null,238162.0,21887648.1,null,null,null],[\"2020-05-28\",88.1,91.7,87.4,91.45,null,228651.0,14809122.8,null,null,null],[\"2020-05-27\",91.0,91.2,86.4,87.3,null,292506.0,25754496.6,null,null,null],[\"2020-05-26\",91.1,93.35,89.7,90.85,null,295589.0,27089139.05,null,null,null],[\"2020-05-25\",88.6,92.7,88.1,92.6,null,101335.0,9240143.65,null,null,null],[\"2020-05-22\",87.35,88.5,85.45,87.65,null,170878.0,14839809.55,null,null,null],[\"2020-05-21\",90.95,90.95,87.8,87.9,null,103051.0,9147975.45,null,null,null],[\"2020-05-20\",92.5,93.3,91.3,91.8,null,169820.0,15657134.85,null,null,null],[\"2020-05-19\",90.45,92.8,89.8,92.5,null,215504.0,19826326.1,null,null,null],[\"2020-05-18\",85.45,89.95,84.9,89.65,null,202085.0,17790850.8,null,null,null],[\"2020-05-15\",82.25,84.85,80.65,83.8,null,219726.0,18211281.9,null,null,null],[\"2020-05-14\",84.7,85.3,81.15,81.35,null,227178.0,18722697.45,null,null,null],[\"2020-05-13\",85.5,87.9,83.8,85.75,null,229089.0,19608050.05,null,null,null],[\"2020-05-12\",91.55,91.55,86.0,86.0,null,332344.0,29093515.5,null,null,null],[\"2020-05-11\",97.0,97.7,90.75,91.8,null,202683.0,18762257.75,null,null,null],[\"2020-05-08\",96.35,97.35,95.15,95.3,null,134071.0,12869764.45,null,null,null],[\"2020-05-07\",94.55,97.25,94.25,96.0,null,210096.0,20200879.55,null,null,null],[\"2020-05-06\",92.8,94.7,91.45,93.95,null,129479.0,12095616.85,null,null,null],[\"2020-05-05\",88.9,92.6,88.25,92.6,null,131163.0,12019019.15,null,null,null],[\"2020-05-04\",87.65,88.1,85.95,87.65,null,168947.0,14745103.15,null,null,null],[\"2020-04-30\",91.6,92.1,89.9,89.95,null,137448.0,12454130.55,null,null,null],[\"2020-04-29\",90.0,91.0,87.85,90.95,null,143888.0,12901979.9,null,null,null],[\"2020-04-28\",92.0,92.2,89.15,89.65,null,163949.0,14804941.85,null,null,null],[\"2020-04-27\",95.05,95.35,92.1,92.1,null,109266.0,10128133.7,null,null,null],[\"2020-04-24\",94.4,94.6,92.35,93.1,null,111240.0,10358166.75,null,null,null],[\"2020-04-23\",94.75,95.5,92.7,94.8,null,123862.0,11684265.45,null,null,null],[\"2020-04-22\",92.75,94.65,91.6,94.65,null,126830.0,11898048.5,null,null,null],[\"2020-04-21\",93.4,93.95,91.5,91.5,null,115152.0,10603440.3,null,null,null],[\"2020-04-20\",94.0,94.65,91.9,94.15,null,124634.0,11640880.35,null,null,null],[\"2020-04-17\",93.4,94.05,91.85,92.9,null,185554.0,17165035.1,null,null,null],[\"2020-04-16\",91.9,92.75,90.7,91.45,null,162831.0,14907520.55,null,null,null],[\"2020-04-15\",94.0,94.6,90.15,90.95,null,204001.0,18647943.8,null,null,null],[\"2020-04-14\",97.5,98.0,93.35,94.05,null,147594.0,13964369.1,null,null,null],[\"2020-04-09\",93.1,95.4,92.05,95.4,null,161578.0,15199731.2,null,null,null],[\"2020-04-08\",90.2,92.25,89.8,92.2,null,152911.0,14008042.75,null,null,null],[\"2020-04-07\",92.0,92.55,88.9,89.5,null,218796.0,19809733.65,null,null,null],[\"2020-04-06\",86.35,89.65,86.25,89.65,null,165074.0,14584495.75,null,null,null],[\"2020-04-03\",83.1,85.45,82.5,84.0,null,184124.0,15495174.4,null,null,null],[\"2020-04-02\",86.0,87.15,79.5,82.5,null,300359.0,24916457.15,null,null,null],[\"2020-04-01\",86.5,86.9,85.0,86.1,null,192187.0,16541381.35,null,null,null],[\"2020-03-31\",92.0,92.65,88.15,88.35,null,311491.0,27892906.55,null,null,null],[\"2020-03-30\",85.4,88.9,83.1,88.9,null,167955.0,14624880.3,null,null,null],[\"2020-03-27\",89.0,90.85,83.5,83.95,null,231618.0,19986099.3,null,null,null],[\"2020-03-26\",81.5,91.05,81.5,91.05,null,274322.0,23971500.55,null,null,null],[\"2020-03-25\",82.5,90.4,80.6,83.1,null,284087.0,23870691.15,null,null,null],[\"2020-03-24\",79.2,79.45,76.6,79.45,null,256310.0,20107995.1,null,null,null],[\"2020-03-23\",74.5,77.05,72.9,75.0,null,187013.0,14032458.1,null,null,null],[\"2020-03-20\",76.65,82.35,75.7,78.25,null,446534.0,34997042.95,null,null,null],[\"2020-03-19\",69.15,74.7,67.7,73.45,null,272648.0,19466640.1,null,null,null],[\"2020-03-18\",74.5,75.25,69.55,69.7,null,341817.0,24444114.6,null,null,null],[\"2020-03-17\",79.0,80.1,73.5,75.1,null,265313.0,20046246.2,null,null,null],[\"2020-03-16\",75.0,76.9,71.45,76.15,null,422533.0,31664759.85,null,null,null],[\"2020-03-13\",77.75,84.05,76.85,78.85,null,457906.0,36529317.4,null,null,null],[\"2020-03-12\",77.75,81.65,75.8,76.45,null,428846.0,33545984.85,null,null,null],[\"2020-03-11\",87.6,88.45,83.85,84.3,null,250339.0,21276696.5,null,null,null],[\"2020-03-10\",88.25,90.3,86.0,86.8,null,324702.0,28663267.75,null,null,null],[\"2020-03-09\",87.65,92.15,85.1,87.2,null,392049.0,34832184.95,null,null,null],[\"2020-03-06\",95.0,95.1,91.9,94.15,null,211996.0,19868077.2,null,null,null],[\"2020-03-05\",101.3,102.6,96.35,97.2,null,230406.0,22585334.7,null,null,null],[\"2020-03-04\",98.3,100.5,97.55,100.1,null,251085.0,24993655.35,null,null,null],[\"2020-03-03\",97.1,99.9,95.55,98.05,null,435677.0,42953287.0,null,null,null],[\"2020-03-02\",96.5,98.3,93.55,95.05,null,285867.0,27318381.65,null,null,null],[\"2020-02-28\",90.05,94.75,89.65,94.75,null,468539.0,43691138.55,null,null,null],[\"2020-02-27\",97.95,98.3,93.75,95.05,null,253380.0,24293170.5,null,null,null],[\"2020-02-26\",98.5,100.8,96.35,100.2,null,371150.0,36784605.3,null,null,null],[\"2020-02-25\",105.6,106.4,100.6,101.2,null,250020.0,25613306.6,null,null,null],[\"2020-02-24\",104.0,105.5,102.2,104.7,null,211543.0,22050204.4,null,null,null],[\"2020-02-21\",110.1,110.2,107.7,108.2,null,119055.0,12948891.0,null,null,null],[\"2020-02-20\",111.3,112.8,109.9,110.4,null,139229.0,15421757.0,null,null,null],[\"2020-02-19\",110.3,112.4,109.5,111.2,null,138008.0,15341487.0,null,null,null],[\"2020-02-18\",107.2,109.8,107.0,109.6,null,111209.0,12136682.0,null,null,null],[\"2020-02-17\",108.9,109.1,107.6,108.8,null,71884.0,7784747.5,null,null,null],[\"2020-02-14\",109.2,110.1,108.2,108.9,null,127710.0,13932329.0,null,null,null],[\"2020-02-13\",110.0,111.0,107.6,109.5,null,175311.0,19094774.0,null,null,null],[\"2020-02-12\",112.4,112.4,109.7,110.0,null,153713.0,16973868.0,null,null,null],[\"2020-02-11\",110.1,113.6,109.3,112.2,null,266600.0,29766104.0,null,null,null],[\"2020-02-10\",114.0,121.1,107.0,109.4,null,449853.0,50064696.0,null,null,null],[\"2020-02-07\",116.4,117.4,114.1,114.9,null,158446.0,18250740.0,null,null,null],[\"2020-02-06\",117.0,117.2,114.7,116.4,null,98097.0,11377620.0,null,null,null],[\"2020-02-05\",116.4,117.0,115.8,116.1,null,141363.0,16440834.0,null,null,null],[\"2020-02-04\",112.1,115.7,111.7,115.0,null,214584.0,24603160.0,null,null,null],[\"2020-02-03\",110.0,112.0,109.3,111.4,null,231387.0,25691706.0,null,null,null],[\"2020-01-31\",112.5,113.7,110.1,110.5,null,257830.0,28708798.0,null,null,null],[\"2020-01-30\",116.8,118.0,112.8,113.3,null,198663.0,22749126.0,null,null,null],[\"2020-01-29\",118.3,118.8,117.4,117.7,null,88563.0,10438738.0,null,null,null],[\"2020-01-28\",118.8,119.6,115.2,118.1,null,134333.0,15754191.0,null,null,null],[\"2020-01-27\",119.6,119.7,117.9,118.0,null,110778.0,13126700.0,null,null,null],[\"2020-01-24\",119.5,120.7,118.6,120.2,null,102713.0,12323204.0,null,null,null],[\"2020-01-23\",120.2,120.9,118.8,118.8,null,92012.0,11007938.0,null,null,null],[\"2020-01-22\",120.2,121.1,119.2,119.7,null,74016.0,8885031.0,null,null,null],[\"2020-01-21\",121.4,121.4,118.9,119.6,null,98600.0,11805317.0,null,null,null],[\"2020-01-20\",121.2,122.1,120.7,121.4,null,63664.0,7721389.5,null,null,null],[\"2020-01-17\",119.9,121.1,119.3,120.8,null,63663.0,7671528.0,null,null,null],[\"2020-01-16\",120.4,120.8,119.0,119.2,null,66065.0,7893356.5,null,null,null],[\"2020-01-15\",119.5,120.7,119.1,120.0,null,111393.0,13370345.0,null,null,null],[\"2020-01-14\",117.6,119.5,116.7,119.3,null,105126.0,12492392.0,null,null,null],[\"2020-01-13\",118.0,118.9,117.0,117.2,null,84067.0,9891618.0,null,null,null],[\"2020-01-10\",119.6,120.4,117.3,117.5,null,102423.0,12098654.0,null,null,null],[\"2020-01-09\",118.4,119.8,117.5,119.2,null,134426.0,15973124.0,null,null,null],[\"2020-01-08\",114.2,116.8,114.0,116.4,null,82884.0,9602366.0,null,null,null],[\"2020-01-07\",114.4,116.9,114.3,114.9,null,98974.0,11431904.0,null,null,null],[\"2020-01-06\",112.0,114.3,111.7,114.0,null,95697.0,10844169.0,null,null,null],[\"2020-01-03\",112.8,113.4,112.0,113.4,null,82304.0,9289987.0,null,null,null],[\"2020-01-02\",114.0,114.9,112.7,113.8,null,143464.0,16291666.0,null,null,null],[\"2019-12-30\",116.4,116.5,113.7,113.7,null,60915.0,6979033.0,null,null,null],[\"2019-12-27\",116.0,116.3,115.0,116.3,null,62154.0,7208475.5,null,null,null],[\"2019-12-23\",115.0,116.2,114.6,114.9,null,66229.0,7626266.1,null,null,null],[\"2019-12-20\",115.9,116.7,114.4,114.6,null,185866.0,21368077.0,null,null,null],[\"2019-12-19\",115.8,116.2,114.9,115.6,null,124269.0,14364060.2,null,null,null],[\"2019-12-18\",115.4,115.9,114.3,115.5,null,124036.0,14308979.8,null,null,null],[\"2019-12-17\",113.4,115.6,113.1,115.6,null,198741.0,22797197.4,null,null,null],[\"2019-12-16\",111.9,113.5,111.1,112.9,null,123873.0,13933520.7,null,null,null],[\"2019-12-13\",113.0,113.0,110.5,111.3,null,115681.0,12875607.7,null,null,null],[\"2019-12-12\",113.0,113.9,111.4,111.9,null,169064.0,18990658.0,null,null,null],[\"2019-12-11\",113.8,113.8,110.9,112.0,null,149438.0,16744868.0,null,null,null],[\"2019-12-10\",114.0,115.3,110.0,113.0,null,219116.0,24654700.0,null,null,null],[\"2019-12-09\",105.1,114.7,105.1,114.3,null,405833.0,45488588.0,null,null,null],[\"2019-12-06\",106.6,106.6,99.6,103.1,null,561633.0,57520904.0,null,null,null],[\"2019-12-05\",110.1,110.3,109.2,110.1,null,69911.0,7687537.5,null,null,null],[\"2019-12-04\",108.6,110.4,108.5,109.6,null,91446.0,10015437.0,null,null,null],[\"2019-12-03\",107.7,110.1,107.3,108.9,null,130237.0,14162319.0,null,null,null],[\"2019-12-02\",111.0,111.4,107.2,107.6,null,144610.0,15685797.0,null,null,null],[\"2019-11-29\",108.2,112.7,108.1,111.0,null,168617.0,18731904.0,null,null,null],[\"2019-11-28\",109.1,109.1,107.5,108.1,null,44677.0,4827719.0,null,null,null],[\"2019-11-27\",109.9,110.0,108.0,108.6,null,80332.0,8731068.0,null,null,null],[\"2019-11-26\",108.6,110.0,107.5,109.5,null,280313.0,30604384.0,null,null,null],[\"2019-11-25\",107.4,109.1,106.4,108.1,null,101435.0,10965700.0,null,null,null],[\"2019-11-22\",106.1,107.1,105.9,106.6,null,116214.0,12391521.0,null,null,null],[\"2019-11-21\",105.5,106.9,104.6,106.0,null,135671.0,14383910.0,null,null,null],[\"2019-11-20\",104.5,107.4,104.2,106.0,null,148853.0,15777142.0,null,null,null],[\"2019-11-19\",104.9,105.3,103.9,104.5,null,86228.0,9006823.0,null,null,null],[\"2019-11-18\",104.0,105.5,103.8,104.8,null,100901.0,10565891.0,null,null,null],[\"2019-11-15\",102.0,104.1,101.9,104.0,null,102061.0,10555093.0,null,null,null],[\"2019-11-14\",102.6,102.9,100.4,101.6,null,89727.0,9123501.0,null,null,null],[\"2019-11-13\",100.4,102.3,100.4,102.3,null,106648.0,10854356.0,null,null,null],[\"2019-11-12\",101.1,102.0,98.9,101.0,null,128193.0,12877095.0,null,null,null],[\"2019-11-11\",102.1,103.8,100.6,100.8,null,95512.0,9684446.0,null,null,null],[\"2019-11-08\",101.8,102.8,100.2,101.8,null,127304.0,12917154.0,null,null,null],[\"2019-11-07\",103.7,104.1,101.2,102.2,null,145112.0,14855882.0,null,null,null],[\"2019-11-06\",100.5,103.2,99.4,103.2,null,132904.0,13585029.0,null,null,null],[\"2019-11-05\",99.65,100.7,98.4,100.3,null,138382.0,13834720.0,null,null,null],[\"2019-11-04\",98.95,100.2,97.1,99.35,null,140821.0,13931740.0,null,null,null],[\"2019-11-01\",98.5,99.65,98.15,98.65,null,84471.0,8332533.0,null,null,null],[\"2019-10-31\",98.05,99.15,97.75,97.75,null,105779.0,10379837.0,null,null,null],[\"2019-10-30\",96.45,98.85,96.0,98.05,null,101101.0,9910827.0,null,null,null],[\"2019-10-29\",95.5,96.55,94.45,96.1,null,113338.0,10820482.0,null,null,null],[\"2019-10-28\",97.7,97.95,95.35,95.85,null,113497.0,10914759.0,null,null,null],[\"2019-10-25\",96.1,97.55,95.4,97.0,null,155040.0,14968588.0,null,null,null],[\"2019-10-24\",94.15,96.4,92.8,96.0,null,275194.0,26191594.0,null,null,null],[\"2019-10-23\",100.4,100.8,89.35,92.55,null,605001.0,56532324.0,null,null,null],[\"2019-10-22\",101.7,102.7,99.9,101.5,null,90905.0,9234451.0,null,null,null],[\"2019-10-21\",103.7,104.1,100.7,101.4,null,108567.0,11048451.0,null,null,null],[\"2019-10-18\",103.9,104.7,103.2,103.7,null,73189.0,7598035.5,null,null,null],[\"2019-10-17\",103.2,104.5,102.9,103.8,null,115138.0,11944767.0,null,null,null],[\"2019-10-16\",104.1,104.7,101.4,103.2,null,116588.0,12026270.0,null,null,null],[\"2019-10-15\",104.0,104.8,102.8,103.9,null,79933.0,8308760.5,null,null,null],[\"2019-10-14\",102.4,103.3,101.1,103.2,null,83291.0,8556893.0,null,null,null],[\"2019-10-11\",103.0,103.7,101.1,102.4,null,124625.0,12751459.0,null,null,null],[\"2019-10-10\",107.0,107.0,101.9,102.5,null,204279.0,21027192.0,null,null,null],[\"2019-10-09\",106.3,107.7,105.5,107.0,null,94098.0,10050758.0,null,null,null],[\"2019-10-08\",109.5,109.9,106.3,106.5,null,97553.0,10483011.0,null,null,null],[\"2019-10-07\",108.5,110.3,107.5,108.8,null,97154.0,10561664.0,null,null,null],[\"2019-10-04\",105.0,109.5,104.4,108.2,null,198283.0,21355196.0,null,null,null],[\"2019-10-02\",104.9,111.5,103.7,105.6,null,342563.0,36835516.0,null,null,null],[\"2019-10-01\",105.3,105.9,103.8,104.8,null,132282.0,13861037.0,null,null,null],[\"2019-09-30\",104.2,105.1,102.7,104.6,null,92395.0,9628660.0,null,null,null],[\"2019-09-27\",103.7,104.0,102.5,103.5,null,74036.0,7656140.5,null,null,null],[\"2019-09-26\",102.3,104.3,101.5,103.8,null,78159.0,8096350.5,null,null,null],[\"2019-09-25\",104.0,104.2,100.1,101.5,null,169893.0,17234866.0,null,null,null],[\"2019-09-24\",103.6,105.2,103.6,105.0,null,61623.0,6452339.0,null,null,null],[\"2019-09-23\",103.1,105.1,102.8,103.8,null,69848.0,7263194.5,null,null,null],[\"2019-09-20\",104.9,105.0,101.8,103.3,null,198709.0,20505680.0,null,null,null],[\"2019-09-19\",102.7,104.8,102.1,104.5,null,125080.0,13001448.0,null,null,null],[\"2019-09-18\",102.4,104.0,102.2,103.3,null,117228.0,12104268.0,null,null,null],[\"2019-09-17\",99.7,102.1,98.7,102.0,null,135793.0,13767140.0,null,null,null],[\"2019-09-16\",99.0,99.75,97.85,99.35,null,112585.0,11171601.0,null,null,null],[\"2019-09-13\",102.2,102.3,98.1,98.9,null,130746.0,12958266.0,null,null,null],[\"2019-09-12\",101.9,102.8,100.6,101.9,null,119437.0,12145270.0,null,null,null],[\"2019-09-11\",100.7,101.7,99.0,101.0,null,171872.0,17257904.0,null,null,null],[\"2019-09-10\",105.5,105.5,99.75,100.5,null,271425.0,27466300.0,null,null,null],[\"2019-09-09\",109.1,109.7,105.7,105.7,null,86187.0,9187726.0,null,null,null],[\"2019-09-06\",106.1,109.6,106.0,108.7,null,101489.0,11006270.0,null,null,null],[\"2019-09-05\",109.0,110.9,106.2,106.4,null,91265.0,9771449.0,null,null,null],[\"2019-09-04\",107.4,109.1,107.1,108.3,null,94641.0,10247516.0,null,null,null],[\"2019-09-03\",107.4,107.7,105.9,107.0,null,105012.0,11237644.0,null,null,null],[\"2019-09-02\",104.5,107.5,104.5,106.7,null,91105.0,9729992.0,null,null,null],[\"2019-08-30\",105.7,105.7,104.4,104.9,null,120743.0,12667534.0,null,null,null],[\"2019-08-29\",107.0,107.6,105.7,105.7,null,87491.0,9291293.0,null,null,null],[\"2019-08-28\",105.0,107.0,104.4,106.6,null,110155.0,11686854.0,null,null,null],[\"2019-08-27\",103.0,105.2,102.6,105.1,null,165727.0,17367660.0,null,null,null],[\"2019-08-26\",102.8,103.1,101.4,103.0,null,63857.0,6556853.5,null,null,null],[\"2019-08-23\",103.4,105.0,102.8,102.8,null,97791.0,10120408.0,null,null,null],[\"2019-08-22\",104.6,106.7,103.3,103.3,null,140365.0,14598704.0,null,null,null],[\"2019-08-21\",101.2,104.3,100.9,103.6,null,111234.0,11480594.0,null,null,null],[\"2019-08-20\",101.4,102.9,100.5,100.6,null,111166.0,11268671.0,null,null,null],[\"2019-08-19\",100.3,101.3,98.2,101.2,null,131618.0,13223834.0,null,null,null],[\"2019-08-16\",98.35,99.4,97.15,99.3,null,106762.0,10549874.0,null,null,null],[\"2019-08-15\",100.2,101.0,96.45,97.9,null,133330.0,13092741.0,null,null,null],[\"2019-08-14\",99.55,103.1,99.3,100.8,null,192752.0,19524066.0,null,null,null],[\"2019-08-13\",99.05,99.6,97.55,98.75,null,113097.0,11171934.0,null,null,null],[\"2019-08-12\",100.0,101.6,98.2,98.95,null,111146.0,11031779.0,null,null,null],[\"2019-08-09\",99.2,104.3,94.4,99.05,null,217386.0,21511178.0,null,null,null],[\"2019-08-08\",95.35,95.35,94.2,95.1,null,110482.0,10474803.0,null,null,null],[\"2019-08-07\",94.15,95.05,93.05,93.9,null,119157.0,11200026.0,null,null,null],[\"2019-08-06\",93.65,95.15,93.25,93.25,null,119714.0,11218618.0,null,null,null],[\"2019-08-05\",96.35,96.35,92.75,94.05,null,232748.0,21909462.0,null,null,null],[\"2019-08-02\",99.95,100.8,97.25,97.25,null,124704.0,12224533.0,null,null,null],[\"2019-08-01\",99.6,100.7,99.3,100.5,null,102399.0,10267086.0,null,null,null],[\"2019-07-31\",99.0,99.75,98.35,99.45,null,106057.0,10535986.0,null,null,null],[\"2019-07-30\",100.3,100.4,98.85,99.2,null,117634.0,11712535.0,null,null,null],[\"2019-07-29\",98.95,100.4,98.75,99.85,null,104305.0,10408428.0,null,null,null],[\"2019-07-26\",96.5,99.3,96.15,99.0,null,116311.0,11474417.0,null,null,null],[\"2019-07-25\",98.35,99.5,96.9,97.25,null,84809.0,8301676.5,null,null,null],[\"2019-07-24\",98.45,98.95,96.65,97.5,null,111280.0,10851049.0,null,null,null]],\"collapse\":null,\"order\":null,\"database_id\":6129}}\n"
     ]
    }
   ],
   "source": [
    "print(r.text)"
   ]
  },
  {
   "cell_type": "code",
   "execution_count": 84,
   "metadata": {},
   "outputs": [
    {
     "name": "stdout",
     "output_type": "stream",
     "text": [
      "What was the highest opening prices in this period?                             121.4\n",
      "What was the lowest opening prices in this period?                              69.15\n",
      "What was the largest change in any one day (based on High and Low price)?       14.099999999999994\n",
      "What was the largest change between any two days (based on Closing Price)?      8.950000000000003\n",
      "What was the average daily trading volume during this year?                     164598.49802371542\n",
      "What was the median trading volume during this year?                            134333.0\n"
     ]
    }
   ],
   "source": [
    "import pandas as pd\n",
    "import numpy as np\n",
    "df = pd.DataFrame(json_data['dataset']['data'])\n",
    "df.columns = json_data['dataset']['column_names']\n",
    "df.dropna(inplace=True, subset=['Open'])\n",
    "\n",
    "print('What was the highest opening prices in this period?                            ', df['Open'].max())\n",
    "print('What was the lowest opening prices in this period?                             ', df['Open'].min())\n",
    "\n",
    "df['changes'] = df['High'] - df['Low']\n",
    "print('What was the largest change in any one day (based on High and Low price)?      ', df['changes'].max())\n",
    "      \n",
    "df['Difference'] = df['Close'].diff()\n",
    "print('What was the largest change between any two days (based on Closing Price)?     ', df['Difference'].max())\n",
    "print('What was the average daily trading volume during this year?                    ', df['Traded Volume'].mean())\n",
    "print('What was the median trading volume during this year?                           ', df['Traded Volume'].median())"
   ]
  },
  {
   "cell_type": "code",
   "execution_count": null,
   "metadata": {},
   "outputs": [],
   "source": []
  }
 ],
 "metadata": {
  "kernelspec": {
   "display_name": "Python 3",
   "language": "python",
   "name": "python3"
  },
  "language_info": {
   "codemirror_mode": {
    "name": "ipython",
    "version": 3
   },
   "file_extension": ".py",
   "mimetype": "text/x-python",
   "name": "python",
   "nbconvert_exporter": "python",
   "pygments_lexer": "ipython3",
   "version": "3.7.6"
  }
 },
 "nbformat": 4,
 "nbformat_minor": 2
}
